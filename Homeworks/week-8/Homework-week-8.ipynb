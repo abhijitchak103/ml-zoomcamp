{
 "cells": [
  {
   "cell_type": "markdown",
   "id": "ff4daba1",
   "metadata": {},
   "source": [
    "### Dataset\n",
    "\n",
    "Download the bee/wasp classification dataset using the terminal code below "
   ]
  },
  {
   "cell_type": "markdown",
   "id": "f9913900",
   "metadata": {},
   "source": [
    "!wget https://github.com/SVizor42/ML_Zoomcamp/releases/download/bee-wasp-data/data.zip\n",
    "\n",
    "!unzip data.zip"
   ]
  },
  {
   "cell_type": "markdown",
   "id": "f1b08fb5",
   "metadata": {},
   "source": [
    "### Imports"
   ]
  },
  {
   "cell_type": "code",
   "execution_count": 1,
   "id": "11289c5f",
   "metadata": {},
   "outputs": [
    {
     "name": "stderr",
     "output_type": "stream",
     "text": [
      "2023-11-12 06:54:57.032658: I tensorflow/core/util/util.cc:169] oneDNN custom operations are on. You may see slightly different numerical results due to floating-point round-off errors from different computation orders. To turn them off, set the environment variable `TF_ENABLE_ONEDNN_OPTS=0`.\n"
     ]
    }
   ],
   "source": [
    "import numpy as np\n",
    "import matplotlib.pyplot as plt\n",
    "\n",
    "%matplotlib inline\n",
    "\n",
    "import tensorflow as tf\n",
    "from tensorflow import keras\n",
    "from tensorflow.keras.preprocessing.image import load_img\n",
    "\n",
    "import warnings\n",
    "warnings.filterwarnings('ignore')"
   ]
  },
  {
   "cell_type": "code",
   "execution_count": 2,
   "id": "5eae11ae",
   "metadata": {},
   "outputs": [],
   "source": [
    "from tensorflow.keras.preprocessing.image import ImageDataGenerator"
   ]
  },
  {
   "cell_type": "code",
   "execution_count": 3,
   "id": "55682f65",
   "metadata": {},
   "outputs": [],
   "source": [
    "from tensorflow.keras.applications.xception import Xception\n",
    "from tensorflow.keras.applications.xception import preprocess_input\n",
    "from tensorflow.keras.applications.xception import decode_predictions"
   ]
  },
  {
   "cell_type": "markdown",
   "id": "fceb4b60",
   "metadata": {},
   "source": [
    "### Convolutional Neural Networks"
   ]
  },
  {
   "cell_type": "code",
   "execution_count": 4,
   "id": "c51ed634",
   "metadata": {},
   "outputs": [],
   "source": [
    "def make_model(input_size=150, lr=0.002, mo=0.8):  \n",
    "    model = keras.models.Sequential([\n",
    "        keras.layers.Conv2D(\n",
    "        filters=32,\n",
    "        kernel_size=(3,3),\n",
    "        activation='relu',\n",
    "        input_shape = (input_size, input_size, 3)\n",
    "    ),\n",
    "        keras.layers.MaxPooling2D(pool_size=(2,2)),\n",
    "        keras.layers.Flatten(),\n",
    "        keras.layers.Dense(64, activation='relu'),\n",
    "        keras.layers.Dense(1, activation='sigmoid')\n",
    "    ])\n",
    "    \n",
    "    optimizer = keras.optimizers.SGD(\n",
    "        learning_rate = lr, \n",
    "        momentum=mo\n",
    "    )\n",
    "\n",
    "    loss = keras.losses.BinaryCrossentropy()\n",
    "    \n",
    "    model.compile(\n",
    "        optimizer = optimizer, \n",
    "        loss = loss, \n",
    "        metrics =['accuracy'])\n",
    "    \n",
    "    return model"
   ]
  },
  {
   "cell_type": "markdown",
   "id": "51350e2f",
   "metadata": {},
   "source": [
    "Q1. Since, we have a binary classification problem, we can use __binary crossentropy__ as the loss function"
   ]
  },
  {
   "cell_type": "code",
   "execution_count": 5,
   "id": "ee536001",
   "metadata": {},
   "outputs": [
    {
     "name": "stderr",
     "output_type": "stream",
     "text": [
      "2023-11-12 06:54:58.832569: I tensorflow/stream_executor/cuda/cuda_gpu_executor.cc:975] successful NUMA node read from SysFS had negative value (-1), but there must be at least one NUMA node, so returning NUMA node zero\n",
      "2023-11-12 06:54:58.848648: I tensorflow/stream_executor/cuda/cuda_gpu_executor.cc:975] successful NUMA node read from SysFS had negative value (-1), but there must be at least one NUMA node, so returning NUMA node zero\n",
      "2023-11-12 06:54:58.849257: I tensorflow/stream_executor/cuda/cuda_gpu_executor.cc:975] successful NUMA node read from SysFS had negative value (-1), but there must be at least one NUMA node, so returning NUMA node zero\n",
      "2023-11-12 06:54:58.850209: I tensorflow/core/platform/cpu_feature_guard.cc:193] This TensorFlow binary is optimized with oneAPI Deep Neural Network Library (oneDNN) to use the following CPU instructions in performance-critical operations:  AVX2 AVX512F AVX512_VNNI FMA\n",
      "To enable them in other operations, rebuild TensorFlow with the appropriate compiler flags.\n",
      "2023-11-12 06:54:58.850603: I tensorflow/stream_executor/cuda/cuda_gpu_executor.cc:975] successful NUMA node read from SysFS had negative value (-1), but there must be at least one NUMA node, so returning NUMA node zero\n",
      "2023-11-12 06:54:58.851178: I tensorflow/stream_executor/cuda/cuda_gpu_executor.cc:975] successful NUMA node read from SysFS had negative value (-1), but there must be at least one NUMA node, so returning NUMA node zero\n",
      "2023-11-12 06:54:58.851708: I tensorflow/stream_executor/cuda/cuda_gpu_executor.cc:975] successful NUMA node read from SysFS had negative value (-1), but there must be at least one NUMA node, so returning NUMA node zero\n",
      "2023-11-12 06:54:59.448028: I tensorflow/stream_executor/cuda/cuda_gpu_executor.cc:975] successful NUMA node read from SysFS had negative value (-1), but there must be at least one NUMA node, so returning NUMA node zero\n",
      "2023-11-12 06:54:59.448638: I tensorflow/stream_executor/cuda/cuda_gpu_executor.cc:975] successful NUMA node read from SysFS had negative value (-1), but there must be at least one NUMA node, so returning NUMA node zero\n",
      "2023-11-12 06:54:59.449189: I tensorflow/stream_executor/cuda/cuda_gpu_executor.cc:975] successful NUMA node read from SysFS had negative value (-1), but there must be at least one NUMA node, so returning NUMA node zero\n",
      "2023-11-12 06:54:59.449720: I tensorflow/core/common_runtime/gpu/gpu_device.cc:1532] Created device /job:localhost/replica:0/task:0/device:GPU:0 with 13795 MB memory:  -> device: 0, name: Tesla T4, pci bus id: 0000:00:1e.0, compute capability: 7.5\n"
     ]
    }
   ],
   "source": [
    "model = make_model()"
   ]
  },
  {
   "cell_type": "code",
   "execution_count": 6,
   "id": "5eecf72c",
   "metadata": {},
   "outputs": [
    {
     "name": "stdout",
     "output_type": "stream",
     "text": [
      "Model: \"sequential\"\n",
      "_________________________________________________________________\n",
      " Layer (type)                Output Shape              Param #   \n",
      "=================================================================\n",
      " conv2d (Conv2D)             (None, 148, 148, 32)      896       \n",
      "                                                                 \n",
      " max_pooling2d (MaxPooling2D  (None, 74, 74, 32)       0         \n",
      " )                                                               \n",
      "                                                                 \n",
      " flatten (Flatten)           (None, 175232)            0         \n",
      "                                                                 \n",
      " dense (Dense)               (None, 64)                11214912  \n",
      "                                                                 \n",
      " dense_1 (Dense)             (None, 1)                 65        \n",
      "                                                                 \n",
      "=================================================================\n",
      "Total params: 11,215,873\n",
      "Trainable params: 11,215,873\n",
      "Non-trainable params: 0\n",
      "_________________________________________________________________\n"
     ]
    }
   ],
   "source": [
    "model.summary()"
   ]
  },
  {
   "cell_type": "markdown",
   "id": "ff35b570",
   "metadata": {},
   "source": [
    "Q2. There are __896__ parameters in the convolutional layer."
   ]
  },
  {
   "cell_type": "markdown",
   "id": "aa31f681",
   "metadata": {},
   "source": [
    "### Generators and Training"
   ]
  },
  {
   "cell_type": "code",
   "execution_count": 7,
   "id": "30f127fc",
   "metadata": {},
   "outputs": [
    {
     "name": "stdout",
     "output_type": "stream",
     "text": [
      "Found 3677 images belonging to 2 classes.\n",
      "Found 918 images belonging to 2 classes.\n"
     ]
    }
   ],
   "source": [
    "train_gen = ImageDataGenerator(rescale=1./255)\n",
    "\n",
    "train_ds = train_gen.flow_from_directory(\n",
    "    'data/train',\n",
    "    target_size=(150, 150),\n",
    "    batch_size=20,\n",
    "    class_mode='binary',\n",
    "    shuffle=True\n",
    ")\n",
    "\n",
    "test_gen = ImageDataGenerator(rescale=1./255)\n",
    "\n",
    "test_ds = test_gen.flow_from_directory(\n",
    "    'data/test',\n",
    "    target_size=(150, 150),\n",
    "    batch_size=20,\n",
    "    class_mode='binary',\n",
    "    shuffle=True\n",
    ")"
   ]
  },
  {
   "cell_type": "code",
   "execution_count": 8,
   "id": "a3fd6287",
   "metadata": {},
   "outputs": [
    {
     "name": "stdout",
     "output_type": "stream",
     "text": [
      "Epoch 1/10\n"
     ]
    },
    {
     "name": "stderr",
     "output_type": "stream",
     "text": [
      "2023-11-12 06:55:01.043420: I tensorflow/stream_executor/cuda/cuda_dnn.cc:384] Loaded cuDNN version 8100\n",
      "2023-11-12 06:55:01.825150: I tensorflow/core/platform/default/subprocess.cc:304] Start cannot spawn child process: No such file or directory\n",
      "2023-11-12 06:55:01.825964: I tensorflow/core/platform/default/subprocess.cc:304] Start cannot spawn child process: No such file or directory\n",
      "2023-11-12 06:55:01.825999: W tensorflow/stream_executor/gpu/asm_compiler.cc:80] Couldn't get ptxas version string: INTERNAL: Couldn't invoke ptxas --version\n",
      "2023-11-12 06:55:01.826797: I tensorflow/core/platform/default/subprocess.cc:304] Start cannot spawn child process: No such file or directory\n",
      "2023-11-12 06:55:01.826864: W tensorflow/stream_executor/gpu/redzone_allocator.cc:314] INTERNAL: Failed to launch ptxas\n",
      "Relying on driver to perform ptx compilation. \n",
      "Modify $PATH to customize ptxas location.\n",
      "This message will be only logged once.\n"
     ]
    },
    {
     "name": "stdout",
     "output_type": "stream",
     "text": [
      "184/184 [==============================] - 11s 48ms/step - loss: 0.6834 - accuracy: 0.5439 - val_loss: 0.6398 - val_accuracy: 0.6307\n",
      "Epoch 2/10\n",
      "184/184 [==============================] - 9s 46ms/step - loss: 0.6474 - accuracy: 0.6212 - val_loss: 0.6094 - val_accuracy: 0.6590\n",
      "Epoch 3/10\n",
      "184/184 [==============================] - 9s 46ms/step - loss: 0.6028 - accuracy: 0.6701 - val_loss: 0.5636 - val_accuracy: 0.7059\n",
      "Epoch 4/10\n",
      "184/184 [==============================] - 8s 46ms/step - loss: 0.5452 - accuracy: 0.7340 - val_loss: 0.5660 - val_accuracy: 0.7092\n",
      "Epoch 5/10\n",
      "184/184 [==============================] - 9s 48ms/step - loss: 0.5188 - accuracy: 0.7541 - val_loss: 0.5290 - val_accuracy: 0.7386\n",
      "Epoch 6/10\n",
      "184/184 [==============================] - 8s 45ms/step - loss: 0.4935 - accuracy: 0.7664 - val_loss: 0.6261 - val_accuracy: 0.6819\n",
      "Epoch 7/10\n",
      "184/184 [==============================] - 8s 46ms/step - loss: 0.4721 - accuracy: 0.7849 - val_loss: 0.5087 - val_accuracy: 0.7538\n",
      "Epoch 8/10\n",
      "184/184 [==============================] - 9s 46ms/step - loss: 0.4426 - accuracy: 0.8031 - val_loss: 0.5180 - val_accuracy: 0.7560\n",
      "Epoch 9/10\n",
      "184/184 [==============================] - 8s 46ms/step - loss: 0.4136 - accuracy: 0.8230 - val_loss: 0.5031 - val_accuracy: 0.7723\n",
      "Epoch 10/10\n",
      "184/184 [==============================] - 8s 46ms/step - loss: 0.3866 - accuracy: 0.8374 - val_loss: 0.5038 - val_accuracy: 0.7734\n"
     ]
    }
   ],
   "source": [
    "history = model.fit(\n",
    "    train_ds, \n",
    "    epochs=10,\n",
    "    validation_data=test_ds\n",
    ")"
   ]
  },
  {
   "cell_type": "code",
   "execution_count": 12,
   "id": "3d6e57d0",
   "metadata": {},
   "outputs": [],
   "source": [
    "accuracy = np.array(history.history['accuracy'])"
   ]
  },
  {
   "cell_type": "code",
   "execution_count": 23,
   "id": "983338cd",
   "metadata": {},
   "outputs": [
    {
     "data": {
      "text/plain": [
       "0.76"
      ]
     },
     "execution_count": 23,
     "metadata": {},
     "output_type": "execute_result"
    }
   ],
   "source": [
    "round(np.median(accuracy), 2)"
   ]
  },
  {
   "cell_type": "markdown",
   "id": "07bc0768",
   "metadata": {},
   "source": [
    "Q3. The median of training accuracy is __0.76__. Option D. 0.80"
   ]
  },
  {
   "cell_type": "code",
   "execution_count": 25,
   "id": "d6806d75",
   "metadata": {},
   "outputs": [
    {
     "data": {
      "text/plain": [
       "0.094"
      ]
     },
     "execution_count": 25,
     "metadata": {},
     "output_type": "execute_result"
    }
   ],
   "source": [
    "round(np.std(history.history['loss']), 3)"
   ]
  },
  {
   "cell_type": "markdown",
   "id": "c916de29",
   "metadata": {},
   "source": [
    "Q4. The standard deviation of training loss is __0.094__. Option C. 0.091"
   ]
  },
  {
   "cell_type": "markdown",
   "id": "b1b56bbf",
   "metadata": {},
   "source": [
    "### Data Augmentation"
   ]
  },
  {
   "cell_type": "code",
   "execution_count": 17,
   "id": "c0c8ecbf",
   "metadata": {},
   "outputs": [
    {
     "name": "stdout",
     "output_type": "stream",
     "text": [
      "Found 3677 images belonging to 2 classes.\n",
      "Found 918 images belonging to 2 classes.\n"
     ]
    }
   ],
   "source": [
    "train_gen = ImageDataGenerator(\n",
    "    rescale=1./255,\n",
    "    rotation_range=50,\n",
    "    width_shift_range=0.1,\n",
    "    height_shift_range=0.1,\n",
    "    zoom_range=0.1,\n",
    "    horizontal_flip=True,\n",
    "    fill_mode='nearest'\n",
    ")\n",
    "\n",
    "train_ds = train_gen.flow_from_directory(\n",
    "    'data/train',\n",
    "    target_size=(150, 150),\n",
    "    batch_size=20,\n",
    "    class_mode='binary',\n",
    "    shuffle=True\n",
    ")\n",
    "\n",
    "test_gen = ImageDataGenerator(rescale=1./255)\n",
    "\n",
    "test_ds = test_gen.flow_from_directory(\n",
    "    'data/test',\n",
    "    target_size=(150, 150),\n",
    "    batch_size=20,\n",
    "    class_mode='binary',\n",
    "    shuffle=True\n",
    ")"
   ]
  },
  {
   "cell_type": "code",
   "execution_count": 18,
   "id": "90b6952a",
   "metadata": {
    "scrolled": false
   },
   "outputs": [
    {
     "name": "stdout",
     "output_type": "stream",
     "text": [
      "Epoch 1/10\n",
      "184/184 [==============================] - 24s 130ms/step - loss: 0.4993 - accuracy: 0.7604 - val_loss: 0.5361 - val_accuracy: 0.7353\n",
      "Epoch 2/10\n",
      "184/184 [==============================] - 24s 130ms/step - loss: 0.4941 - accuracy: 0.7696 - val_loss: 0.4714 - val_accuracy: 0.7876\n",
      "Epoch 3/10\n",
      "184/184 [==============================] - 24s 129ms/step - loss: 0.4798 - accuracy: 0.7797 - val_loss: 0.4806 - val_accuracy: 0.7767\n",
      "Epoch 4/10\n",
      "184/184 [==============================] - 24s 130ms/step - loss: 0.4740 - accuracy: 0.7781 - val_loss: 0.4589 - val_accuracy: 0.7778\n",
      "Epoch 5/10\n",
      "184/184 [==============================] - 24s 129ms/step - loss: 0.4765 - accuracy: 0.7778 - val_loss: 0.4760 - val_accuracy: 0.7865\n",
      "Epoch 6/10\n",
      "184/184 [==============================] - 24s 131ms/step - loss: 0.4713 - accuracy: 0.7792 - val_loss: 0.4651 - val_accuracy: 0.7756\n",
      "Epoch 7/10\n",
      "184/184 [==============================] - 24s 130ms/step - loss: 0.4610 - accuracy: 0.7911 - val_loss: 0.4917 - val_accuracy: 0.7614\n",
      "Epoch 8/10\n",
      "184/184 [==============================] - 24s 132ms/step - loss: 0.4611 - accuracy: 0.7881 - val_loss: 0.5289 - val_accuracy: 0.7571\n",
      "Epoch 9/10\n",
      "184/184 [==============================] - 24s 130ms/step - loss: 0.4599 - accuracy: 0.7900 - val_loss: 0.4540 - val_accuracy: 0.7908\n",
      "Epoch 10/10\n",
      "184/184 [==============================] - 24s 131ms/step - loss: 0.4660 - accuracy: 0.7909 - val_loss: 0.4473 - val_accuracy: 0.8061\n"
     ]
    }
   ],
   "source": [
    "augmented_history = model.fit(\n",
    "    train_ds, \n",
    "    epochs=10,\n",
    "    validation_data=test_ds\n",
    ")"
   ]
  },
  {
   "cell_type": "code",
   "execution_count": 22,
   "id": "2aa3b564",
   "metadata": {},
   "outputs": [
    {
     "data": {
      "text/plain": [
       "0.48"
      ]
     },
     "execution_count": 22,
     "metadata": {},
     "output_type": "execute_result"
    }
   ],
   "source": [
    "round(np.mean(augmented_history.history['val_loss']), 2)"
   ]
  },
  {
   "cell_type": "markdown",
   "id": "edbf7cb6",
   "metadata": {},
   "source": [
    "Q5. The mean of test loss with augmentation is __0.48__. Option B. 0.48"
   ]
  },
  {
   "cell_type": "code",
   "execution_count": 21,
   "id": "89c0e01a",
   "metadata": {},
   "outputs": [
    {
     "data": {
      "text/plain": [
       "0.78"
      ]
     },
     "execution_count": 21,
     "metadata": {},
     "output_type": "execute_result"
    }
   ],
   "source": [
    "round(np.mean(augmented_history.history['val_accuracy'][6:]), 2)"
   ]
  },
  {
   "cell_type": "markdown",
   "id": "372a27e4",
   "metadata": {},
   "source": [
    "Q6. The average of test accuracy for last 5 epochs with augmentation is __0.78__. Option C. 0.78"
   ]
  },
  {
   "cell_type": "markdown",
   "id": "9efc807c",
   "metadata": {},
   "source": [
    "### Using the model"
   ]
  },
  {
   "cell_type": "code",
   "execution_count": 26,
   "id": "0da9a367",
   "metadata": {},
   "outputs": [],
   "source": [
    "path = ('data/test/wasp/10060338395_bac28dcb97_n.jpg')"
   ]
  },
  {
   "cell_type": "code",
   "execution_count": 27,
   "id": "b7a8c776",
   "metadata": {},
   "outputs": [],
   "source": [
    "img = load_img(path, target_size=(150,150))"
   ]
  },
  {
   "cell_type": "code",
   "execution_count": 28,
   "id": "2928995d",
   "metadata": {},
   "outputs": [
    {
     "data": {
      "image/png": "[encoded data removed]",
      "text/plain": [
       "<PIL.Image.Image image mode=RGB size=150x150>"
      ]
     },
     "execution_count": 28,
     "metadata": {},
     "output_type": "execute_result"
    }
   ],
   "source": [
    "img"
   ]
  },
  {
   "cell_type": "code",
   "execution_count": 29,
   "id": "e20925b1",
   "metadata": {},
   "outputs": [],
   "source": [
    "x = np.array(img)\n",
    "X = np.array([x])"
   ]
  },
  {
   "cell_type": "code",
   "execution_count": 30,
   "id": "f7f2b1cf",
   "metadata": {},
   "outputs": [
    {
     "name": "stdout",
     "output_type": "stream",
     "text": [
      "1/1 [==============================] - 0s 101ms/step\n"
     ]
    }
   ],
   "source": [
    "pred = model.predict(X)"
   ]
  },
  {
   "cell_type": "code",
   "execution_count": 35,
   "id": "f032993e",
   "metadata": {},
   "outputs": [
    {
     "data": {
      "text/plain": [
       "array([1.], dtype=float32)"
      ]
     },
     "execution_count": 35,
     "metadata": {},
     "output_type": "execute_result"
    }
   ],
   "source": [
    "pred[0]"
   ]
  },
  {
   "cell_type": "code",
   "execution_count": 33,
   "id": "e4eb7404",
   "metadata": {},
   "outputs": [
    {
     "data": {
      "text/plain": [
       "{'bee': 0, 'wasp': 1}"
      ]
     },
     "execution_count": 33,
     "metadata": {},
     "output_type": "execute_result"
    }
   ],
   "source": [
    "train_ds.class_indices"
   ]
  }
 ],
 "metadata": {
  "kernelspec": {
   "display_name": "saturn (Python 3)",
   "language": "python",
   "name": "python3"
  },
  "language_info": {
   "codemirror_mode": {
    "name": "ipython",
    "version": 3
   },
   "file_extension": ".py",
   "mimetype": "text/x-python",
   "name": "python",
   "nbconvert_exporter": "python",
   "pygments_lexer": "ipython3",
   "version": "3.9.13"
  }
 },
 "nbformat": 4,
 "nbformat_minor": 5
}
