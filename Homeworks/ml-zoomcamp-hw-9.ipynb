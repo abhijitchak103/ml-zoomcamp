{
 "cells": [
  {
   "cell_type": "code",
   "execution_count": 11,
   "id": "fb6effe3",
   "metadata": {},
   "outputs": [
    {
     "name": "stderr",
     "output_type": "stream",
     "text": [
      "2023-11-25 12:10:39.660106: I tensorflow/tsl/cuda/cudart_stub.cc:28] Could not find cuda drivers on your machine, GPU will not be used.\n",
      "2023-11-25 12:10:40.532666: E tensorflow/compiler/xla/stream_executor/cuda/cuda_dnn.cc:9342] Unable to register cuDNN factory: Attempting to register factory for plugin cuDNN when one has already been registered\n",
      "2023-11-25 12:10:40.532706: E tensorflow/compiler/xla/stream_executor/cuda/cuda_fft.cc:609] Unable to register cuFFT factory: Attempting to register factory for plugin cuFFT when one has already been registered\n",
      "2023-11-25 12:10:40.538234: E tensorflow/compiler/xla/stream_executor/cuda/cuda_blas.cc:1518] Unable to register cuBLAS factory: Attempting to register factory for plugin cuBLAS when one has already been registered\n",
      "2023-11-25 12:10:41.002213: I tensorflow/tsl/cuda/cudart_stub.cc:28] Could not find cuda drivers on your machine, GPU will not be used.\n",
      "2023-11-25 12:10:41.006448: I tensorflow/core/platform/cpu_feature_guard.cc:182] This TensorFlow binary is optimized to use available CPU instructions in performance-critical operations.\n",
      "To enable the following instructions: AVX2 FMA, in other operations, rebuild TensorFlow with the appropriate compiler flags.\n",
      "2023-11-25 12:10:43.403354: W tensorflow/compiler/tf2tensorrt/utils/py_utils.cc:38] TF-TRT Warning: Could not find TensorRT\n"
     ]
    }
   ],
   "source": [
    "import numpy as np\n",
    "import tensorflow as tf\n",
    "from tensorflow import keras"
   ]
  },
  {
   "cell_type": "code",
   "execution_count": 12,
   "id": "37c9fe10",
   "metadata": {},
   "outputs": [],
   "source": [
    "from keras.applications.xception import preprocess_input"
   ]
  },
  {
   "cell_type": "code",
   "execution_count": 13,
   "id": "e0ef830f",
   "metadata": {},
   "outputs": [
    {
     "name": "stdout",
     "output_type": "stream",
     "text": [
      "Dockerfile\t   housing.csv\t\t   ml-zoomcamp-hw-3.ipynb  test_w9.py\r\n",
      "bees-wasps.h5\t   lambda_function.py\t   ml-zoomcamp-hw-4.ipynb  week-5\r\n",
      "bees-wasps.tflite  ml-zoomcamp-hw-1.ipynb  ml-zoomcamp-hw-6.ipynb  week-8\r\n",
      "data.csv\t   ml-zoomcamp-hw-2.ipynb  ml-zoomcamp-hw-9.ipynb\r\n"
     ]
    }
   ],
   "source": [
    "!ls"
   ]
  },
  {
   "cell_type": "code",
   "execution_count": 14,
   "id": "c8f1ca13",
   "metadata": {},
   "outputs": [
    {
     "name": "stderr",
     "output_type": "stream",
     "text": [
      "2023-11-25 12:10:49.782930: E tensorflow/compiler/xla/stream_executor/cuda/cuda_driver.cc:268] failed call to cuInit: CUDA_ERROR_NO_DEVICE: no CUDA-capable device is detected\n",
      "2023-11-25 12:10:50.020414: W tensorflow/tsl/framework/cpu_allocator_impl.cc:83] Allocation of 44859392 exceeds 10% of free system memory.\n",
      "2023-11-25 12:10:50.079331: W tensorflow/tsl/framework/cpu_allocator_impl.cc:83] Allocation of 44859392 exceeds 10% of free system memory.\n",
      "2023-11-25 12:10:50.103364: W tensorflow/tsl/framework/cpu_allocator_impl.cc:83] Allocation of 44859392 exceeds 10% of free system memory.\n",
      "2023-11-25 12:10:50.709400: W tensorflow/tsl/framework/cpu_allocator_impl.cc:83] Allocation of 44859392 exceeds 10% of free system memory.\n",
      "2023-11-25 12:10:50.912823: W tensorflow/tsl/framework/cpu_allocator_impl.cc:83] Allocation of 44859392 exceeds 10% of free system memory.\n"
     ]
    }
   ],
   "source": [
    "model = keras.models.load_model('bees-wasps.h5')"
   ]
  },
  {
   "cell_type": "markdown",
   "id": "a1ae9f95",
   "metadata": {},
   "source": [
    "### Converting to Tf-Lite"
   ]
  },
  {
   "cell_type": "code",
   "execution_count": 15,
   "id": "9555ea4d",
   "metadata": {},
   "outputs": [
    {
     "name": "stdout",
     "output_type": "stream",
     "text": [
      "INFO:tensorflow:Assets written to: /tmp/tmpk4ye4c3p/assets\n"
     ]
    },
    {
     "name": "stderr",
     "output_type": "stream",
     "text": [
      "INFO:tensorflow:Assets written to: /tmp/tmpk4ye4c3p/assets\n",
      "2023-11-25 12:10:57.696325: W tensorflow/compiler/mlir/lite/python/tf_tfl_flatbuffer_helpers.cc:378] Ignored output_format.\n",
      "2023-11-25 12:10:57.696410: W tensorflow/compiler/mlir/lite/python/tf_tfl_flatbuffer_helpers.cc:381] Ignored drop_control_dependency.\n",
      "2023-11-25 12:10:57.703302: I tensorflow/cc/saved_model/reader.cc:83] Reading SavedModel from: /tmp/tmpk4ye4c3p\n",
      "2023-11-25 12:10:57.704488: I tensorflow/cc/saved_model/reader.cc:51] Reading meta graph with tags { serve }\n",
      "2023-11-25 12:10:57.704514: I tensorflow/cc/saved_model/reader.cc:146] Reading SavedModel debug info (if present) from: /tmp/tmpk4ye4c3p\n",
      "2023-11-25 12:10:57.709732: I tensorflow/compiler/mlir/mlir_graph_optimization_pass.cc:382] MLIR V1 optimization pass is not enabled\n",
      "2023-11-25 12:10:57.710748: I tensorflow/cc/saved_model/loader.cc:233] Restoring SavedModel bundle.\n",
      "2023-11-25 12:10:58.394451: I tensorflow/cc/saved_model/loader.cc:217] Running initialization op on SavedModel bundle at path: /tmp/tmpk4ye4c3p\n",
      "2023-11-25 12:10:58.447380: I tensorflow/cc/saved_model/loader.cc:316] SavedModel load for tags { serve }; Status: success: OK. Took 744086 microseconds.\n",
      "2023-11-25 12:10:58.685274: I tensorflow/compiler/mlir/tensorflow/utils/dump_mlir_util.cc:269] disabling MLIR crash reproducer, set env var `MLIR_CRASH_REPRODUCER_DIRECTORY` to enable.\n"
     ]
    }
   ],
   "source": [
    "converter = tf.lite.TFLiteConverter.from_keras_model(model)\n",
    "\n",
    "tflite_model = converter.convert()\n",
    "\n",
    "with open('bees-wasps.tflite', 'wb') as f_out:\n",
    "    f_out.write(tflite_model)"
   ]
  },
  {
   "cell_type": "code",
   "execution_count": 16,
   "id": "6a0f2367",
   "metadata": {},
   "outputs": [
    {
     "name": "stdout",
     "output_type": "stream",
     "text": [
      "total 132M\r\n",
      "-rwxrwxrwx 1 abhijit abhijit  275 Nov 25 11:51 Dockerfile\r\n",
      "-rwxrwxrwx 1 abhijit abhijit  86M Nov 18 03:21 bees-wasps.h5\r\n",
      "-rwxrwxrwx 1 abhijit abhijit  43M Nov 25 12:11 bees-wasps.tflite\r\n",
      "-rwxrwxrwx 1 abhijit abhijit 1.5M Nov 24 20:58 data.csv\r\n",
      "-rwxrwxrwx 1 abhijit abhijit 1.4M Nov 24 20:58 housing.csv\r\n",
      "-rwxrwxrwx 1 abhijit abhijit 1.5K Nov 25 12:01 lambda_function.py\r\n",
      "-rwxrwxrwx 1 abhijit abhijit  19K Nov 24 20:58 ml-zoomcamp-hw-1.ipynb\r\n",
      "-rwxrwxrwx 1 abhijit abhijit  60K Nov 24 20:58 ml-zoomcamp-hw-2.ipynb\r\n",
      "-rwxrwxrwx 1 abhijit abhijit  68K Nov 24 20:58 ml-zoomcamp-hw-3.ipynb\r\n",
      "-rwxrwxrwx 1 abhijit abhijit 100K Nov 24 20:58 ml-zoomcamp-hw-4.ipynb\r\n",
      "-rwxrwxrwx 1 abhijit abhijit  72K Nov 24 20:58 ml-zoomcamp-hw-6.ipynb\r\n",
      "-rwxrwxrwx 1 abhijit abhijit  20K Nov 25 12:10 ml-zoomcamp-hw-9.ipynb\r\n",
      "-rwxrwxrwx 1 abhijit abhijit  240 Nov 25 12:00 test_w9.py\r\n",
      "drwxrwxrwx 1 abhijit abhijit  512 Nov 24 20:58 week-5\r\n",
      "drwxrwxrwx 1 abhijit abhijit  512 Nov 24 20:58 week-8\r\n"
     ]
    }
   ],
   "source": [
    "!ls -lh"
   ]
  },
  {
   "cell_type": "markdown",
   "id": "faa6e4da",
   "metadata": {},
   "source": [
    "* The Tflite converted model is 43 Mb large"
   ]
  },
  {
   "cell_type": "markdown",
   "id": "7574f136",
   "metadata": {},
   "source": [
    "### Input and Output Indices"
   ]
  },
  {
   "cell_type": "code",
   "execution_count": 17,
   "id": "c373cc71",
   "metadata": {},
   "outputs": [],
   "source": [
    "import tensorflow.lite as tflite"
   ]
  },
  {
   "cell_type": "code",
   "execution_count": 18,
   "id": "5cf07dda",
   "metadata": {},
   "outputs": [
    {
     "name": "stderr",
     "output_type": "stream",
     "text": [
      "INFO: Created TensorFlow Lite XNNPACK delegate for CPU.\n"
     ]
    }
   ],
   "source": [
    "interpreter = tflite.Interpreter(model_path='bees-wasps.tflite')\n",
    "interpreter.allocate_tensors()"
   ]
  },
  {
   "cell_type": "code",
   "execution_count": 19,
   "id": "ca7108dd",
   "metadata": {},
   "outputs": [],
   "source": [
    "input_index = interpreter.get_input_details()[0]['index']"
   ]
  },
  {
   "cell_type": "code",
   "execution_count": 20,
   "id": "485fd824",
   "metadata": {},
   "outputs": [],
   "source": [
    "output_index = interpreter.get_output_details()[0]['index']"
   ]
  },
  {
   "cell_type": "code",
   "execution_count": 21,
   "id": "26a48529",
   "metadata": {},
   "outputs": [
    {
     "data": {
      "text/plain": [
       "13"
      ]
     },
     "execution_count": 21,
     "metadata": {},
     "output_type": "execute_result"
    }
   ],
   "source": [
    "output_index"
   ]
  },
  {
   "cell_type": "markdown",
   "id": "7ced19b2",
   "metadata": {},
   "source": [
    "### Preparing the Image"
   ]
  },
  {
   "cell_type": "code",
   "execution_count": 16,
   "id": "8bdac8bb",
   "metadata": {},
   "outputs": [
    {
     "name": "stdout",
     "output_type": "stream",
     "text": [
      "Requirement already satisfied: pillow in /home/abhijit/miniconda3/lib/python3.11/site-packages (10.0.1)\r\n"
     ]
    }
   ],
   "source": [
    "!pip install pillow"
   ]
  },
  {
   "cell_type": "code",
   "execution_count": 22,
   "id": "7df14dd2",
   "metadata": {},
   "outputs": [],
   "source": [
    "from io import BytesIO\n",
    "from urllib import request\n",
    "\n",
    "from PIL import Image\n",
    "\n",
    "def download_image(url):\n",
    "    with request.urlopen(url) as resp:\n",
    "        buffer = resp.read()\n",
    "    stream = BytesIO(buffer)\n",
    "    img = Image.open(stream)\n",
    "    return img\n",
    "\n",
    "\n",
    "def prepare_image(img, target_size):\n",
    "    if img.mode != 'RGB':\n",
    "        img = img.convert('RGB')\n",
    "    img = img.resize(target_size, Image.NEAREST)\n",
    "    return img"
   ]
  },
  {
   "cell_type": "code",
   "execution_count": 23,
   "id": "a1481aea",
   "metadata": {},
   "outputs": [],
   "source": [
    "url = 'https://habrastorage.org/webt/rt/d9/dh/rtd9dhsmhwrdezeldzoqgijdg8a.jpeg'\n",
    "img = download_image(url)"
   ]
  },
  {
   "cell_type": "code",
   "execution_count": 26,
   "id": "699e41c0",
   "metadata": {},
   "outputs": [],
   "source": [
    "prep_img = prepare_image(img, target_size=(150,150))"
   ]
  },
  {
   "cell_type": "markdown",
   "id": "885e511d",
   "metadata": {},
   "source": [
    "### Preprocessing"
   ]
  },
  {
   "cell_type": "code",
   "execution_count": 31,
   "id": "db91cfdd",
   "metadata": {},
   "outputs": [],
   "source": [
    "x = np.array(prep_img, dtype='float32')\n",
    "# X = np.array([x])"
   ]
  },
  {
   "cell_type": "code",
   "execution_count": 32,
   "id": "6a2567d8",
   "metadata": {},
   "outputs": [
    {
     "data": {
      "text/plain": [
       "array([[[241., 231., 219.],\n",
       "        [239., 235., 249.],\n",
       "        [233., 229., 244.],\n",
       "        ...,\n",
       "        [ 74.,  85.,  42.],\n",
       "        [ 89., 104.,  39.],\n",
       "        [ 76.,  92.,  30.]],\n",
       "\n",
       "       [[242., 232., 222.],\n",
       "        [234., 232., 245.],\n",
       "        [230., 228., 242.],\n",
       "        ...,\n",
       "        [ 70.,  86.,  41.],\n",
       "        [120., 129.,  48.],\n",
       "        [115., 126.,  47.]],\n",
       "\n",
       "       [[237., 225., 209.],\n",
       "        [233., 232., 246.],\n",
       "        [231., 228., 245.],\n",
       "        ...,\n",
       "        [ 82.,  96.,  45.],\n",
       "        [129., 134.,  52.],\n",
       "        [110., 119.,  52.]],\n",
       "\n",
       "       ...,\n",
       "\n",
       "       [[  8.,  17.,  12.],\n",
       "        [  6.,  22.,  12.],\n",
       "        [ 21.,  21.,  23.],\n",
       "        ...,\n",
       "        [113.,  92.,  13.],\n",
       "        [ 43.,  45.,  31.],\n",
       "        [ 32.,  40.,  29.]],\n",
       "\n",
       "       [[  8.,  17.,  12.],\n",
       "        [ 20.,  30.,  22.],\n",
       "        [ 14.,  25.,  19.],\n",
       "        ...,\n",
       "        [ 82.,  68.,  19.],\n",
       "        [ 31.,  34.,  27.],\n",
       "        [ 24.,  29.,  23.]],\n",
       "\n",
       "       [[  5.,  10.,   6.],\n",
       "        [ 22.,  29.,  21.],\n",
       "        [ 26.,  31.,  24.],\n",
       "        ...,\n",
       "        [ 42.,  45.,  28.],\n",
       "        [ 34.,  40.,  30.],\n",
       "        [ 25.,  30.,  23.]]], dtype=float32)"
      ]
     },
     "execution_count": 32,
     "metadata": {},
     "output_type": "execute_result"
    }
   ],
   "source": [
    "x"
   ]
  },
  {
   "cell_type": "code",
   "execution_count": 33,
   "id": "7ab96b37",
   "metadata": {},
   "outputs": [],
   "source": [
    "def process_np(x):\n",
    "    x /= 255.  # As numbers range from 0-255. Instead of using 127.5 we need 255 to tranform within 0-1\n",
    "    return x"
   ]
  },
  {
   "cell_type": "code",
   "execution_count": 34,
   "id": "e74012f8",
   "metadata": {},
   "outputs": [],
   "source": [
    "X = np.array([x])\n",
    "X = process_np(X)"
   ]
  },
  {
   "cell_type": "code",
   "execution_count": 35,
   "id": "ddf9eaab",
   "metadata": {},
   "outputs": [
    {
     "data": {
      "text/plain": [
       "(1, 150, 150, 3)"
      ]
     },
     "execution_count": 35,
     "metadata": {},
     "output_type": "execute_result"
    }
   ],
   "source": [
    "X.shape"
   ]
  },
  {
   "cell_type": "code",
   "execution_count": 36,
   "id": "9b593742",
   "metadata": {},
   "outputs": [
    {
     "data": {
      "text/plain": [
       "(150, 150, 3)"
      ]
     },
     "execution_count": 36,
     "metadata": {},
     "output_type": "execute_result"
    }
   ],
   "source": [
    "X[0].shape"
   ]
  },
  {
   "cell_type": "code",
   "execution_count": 37,
   "id": "f647babd",
   "metadata": {},
   "outputs": [
    {
     "data": {
      "text/plain": [
       "(150, 150)"
      ]
     },
     "execution_count": 37,
     "metadata": {},
     "output_type": "execute_result"
    }
   ],
   "source": [
    "X[0][:,:,0].shape"
   ]
  },
  {
   "cell_type": "code",
   "execution_count": 38,
   "id": "8cadaa76",
   "metadata": {},
   "outputs": [
    {
     "data": {
      "text/plain": [
       "array([0.94509804, 0.9372549 , 0.9137255 , 0.89411765, 0.89411765,\n",
       "       0.8901961 , 0.8666667 , 0.8745098 , 0.8666667 , 0.85882354,\n",
       "       0.84313726, 0.84313726, 0.84313726, 0.8392157 , 0.8235294 ,\n",
       "       0.8235294 , 0.80784315, 0.8156863 , 0.80784315, 0.8       ,\n",
       "       0.8       , 0.8039216 , 0.7921569 , 0.8       , 0.7921569 ,\n",
       "       0.8       , 0.78039217, 0.78431374, 0.78431374, 0.78039217,\n",
       "       0.78431374, 0.7764706 , 0.7607843 , 0.7607843 , 0.7529412 ,\n",
       "       0.7529412 , 0.7490196 , 0.7490196 , 0.74509805, 0.7372549 ,\n",
       "       0.73333335, 0.73333335, 0.7372549 , 0.7372549 , 0.73333335,\n",
       "       0.7372549 , 0.7372549 , 0.73333335, 0.7294118 , 0.7294118 ,\n",
       "       0.72156864, 0.7254902 , 0.7137255 , 0.70980394, 0.7058824 ,\n",
       "       0.69411767, 0.69803923, 0.69411767, 0.6901961 , 0.6901961 ,\n",
       "       0.69411767, 0.69411767, 0.68235296, 0.6784314 , 0.6784314 ,\n",
       "       0.6745098 , 0.6745098 , 0.6745098 , 0.6784314 , 0.6666667 ,\n",
       "       0.6666667 , 0.65882355, 0.654902  , 0.64705884, 0.6431373 ,\n",
       "       0.63529414, 0.63529414, 0.63529414, 0.63529414, 0.63529414,\n",
       "       0.6313726 , 0.6313726 , 0.61960787, 0.6156863 , 0.6117647 ,\n",
       "       0.6156863 , 0.6117647 , 0.6       , 0.5882353 , 0.5882353 ,\n",
       "       0.58431375, 0.5764706 , 0.57254905, 0.5686275 , 0.5686275 ,\n",
       "       0.5568628 , 0.56078434, 0.54509807, 0.5372549 , 0.53333336,\n",
       "       0.5372549 , 0.5254902 , 0.5176471 , 0.5058824 , 0.5058824 ,\n",
       "       0.50980395, 0.50980395, 0.50980395, 0.50980395, 0.5176471 ,\n",
       "       0.5176471 , 0.5176471 , 0.5294118 , 0.5254902 , 0.54509807,\n",
       "       0.6039216 , 0.5764706 , 0.5686275 , 0.58431375, 0.6431373 ,\n",
       "       0.7490196 , 0.73333335, 0.62352943, 0.6039216 , 0.6666667 ,\n",
       "       0.64705884, 0.54901963, 0.5058824 , 0.45882353, 0.4       ,\n",
       "       0.46666667, 0.4862745 , 0.39607844, 0.39607844, 0.43529412,\n",
       "       0.6       , 0.6039216 , 0.5372549 , 0.47843137, 0.44705883,\n",
       "       0.4       , 0.38431373, 0.38431373, 0.3882353 , 0.3882353 ,\n",
       "       0.3372549 , 0.22745098, 0.2901961 , 0.34901962, 0.29803923],\n",
       "      dtype=float32)"
      ]
     },
     "execution_count": 38,
     "metadata": {},
     "output_type": "execute_result"
    }
   ],
   "source": [
    "X[0][:,:, 0][0]"
   ]
  },
  {
   "cell_type": "code",
   "execution_count": 39,
   "id": "2dfad637",
   "metadata": {},
   "outputs": [
    {
     "data": {
      "text/plain": [
       "array([[0.65898407]], dtype=float32)"
      ]
     },
     "execution_count": 39,
     "metadata": {},
     "output_type": "execute_result"
    }
   ],
   "source": [
    "interpreter.set_tensor(input_index, X)\n",
    "interpreter.invoke()\n",
    "\n",
    "preds = interpreter.get_tensor(output_index)\n",
    "preds"
   ]
  },
  {
   "cell_type": "markdown",
   "id": "683a6478",
   "metadata": {},
   "source": [
    "### Without Using Tensorflow"
   ]
  },
  {
   "cell_type": "code",
   "execution_count": 1,
   "id": "38e0c0f9",
   "metadata": {},
   "outputs": [],
   "source": [
    "import numpy as np\n",
    "import tflite_runtime.interpreter as tflite\n",
    "\n",
    "from io import BytesIO\n",
    "from urllib import request\n",
    "\n",
    "from PIL import Image"
   ]
  },
  {
   "cell_type": "code",
   "execution_count": 2,
   "id": "47877aae",
   "metadata": {},
   "outputs": [
    {
     "name": "stderr",
     "output_type": "stream",
     "text": [
      "INFO: Created TensorFlow Lite XNNPACK delegate for CPU.\n"
     ]
    }
   ],
   "source": [
    "interpreter = tflite.Interpreter(model_path='bees-wasps.tflite')\n",
    "interpreter.allocate_tensors()\n",
    "\n",
    "input_index = interpreter.get_input_details()[0]['index']\n",
    "output_index = interpreter.get_output_details()[0]['index']"
   ]
  },
  {
   "cell_type": "code",
   "execution_count": 3,
   "id": "83cc45ef",
   "metadata": {},
   "outputs": [],
   "source": [
    "\n",
    "\n",
    "def download_image(url):\n",
    "    with request.urlopen(url) as resp:\n",
    "        buffer = resp.read()\n",
    "    stream = BytesIO(buffer)\n",
    "    img = Image.open(stream)\n",
    "    return img\n",
    "\n",
    "\n",
    "def prepare_image(img, target_size):\n",
    "    if img.mode != 'RGB':\n",
    "        img = img.convert('RGB')\n",
    "    img = img.resize(target_size, Image.NEAREST)\n",
    "    return img\n",
    "\n",
    "def process_input(X):\n",
    "    X /= 255.\n",
    "    return X"
   ]
  },
  {
   "cell_type": "code",
   "execution_count": 4,
   "id": "a2655fea",
   "metadata": {},
   "outputs": [],
   "source": [
    "url = 'https://habrastorage.org/webt/rt/d9/dh/rtd9dhsmhwrdezeldzoqgijdg8a.jpeg'"
   ]
  },
  {
   "cell_type": "code",
   "execution_count": 5,
   "id": "d30b3a98",
   "metadata": {},
   "outputs": [],
   "source": [
    "def preprocessor(url, target_size = (150, 150)):\n",
    "    img = download_image(url)\n",
    "    img = prepare_image(img, target_size)\n",
    "    \n",
    "    # Convert to numpy array\n",
    "    x = np.array(img, dtype='float32')\n",
    "    X = np.array([x])\n",
    "    X = process_input(X)\n",
    "    \n",
    "    return X"
   ]
  },
  {
   "cell_type": "code",
   "execution_count": 6,
   "id": "238e59c9",
   "metadata": {},
   "outputs": [],
   "source": [
    "X = preprocessor(url)"
   ]
  },
  {
   "cell_type": "code",
   "execution_count": 7,
   "id": "2659b2a9",
   "metadata": {},
   "outputs": [
    {
     "data": {
      "text/plain": [
       "(1, 150, 150, 3)"
      ]
     },
     "execution_count": 7,
     "metadata": {},
     "output_type": "execute_result"
    }
   ],
   "source": [
    "X.shape"
   ]
  },
  {
   "cell_type": "code",
   "execution_count": 8,
   "id": "b54ff541",
   "metadata": {},
   "outputs": [
    {
     "data": {
      "text/plain": [
       "array([0.94509804, 0.90588236, 0.85882354], dtype=float32)"
      ]
     },
     "execution_count": 8,
     "metadata": {},
     "output_type": "execute_result"
    }
   ],
   "source": [
    "X[0, 0, 0, :]"
   ]
  },
  {
   "cell_type": "code",
   "execution_count": 9,
   "id": "f0ad5fc6",
   "metadata": {},
   "outputs": [],
   "source": [
    "interpreter.set_tensor(input_index, X)\n",
    "interpreter.invoke()\n",
    "\n",
    "preds = interpreter.get_tensor(output_index)"
   ]
  },
  {
   "cell_type": "code",
   "execution_count": 10,
   "id": "2a81b1c0",
   "metadata": {},
   "outputs": [
    {
     "data": {
      "text/plain": [
       "array([0.65898407], dtype=float32)"
      ]
     },
     "execution_count": 10,
     "metadata": {},
     "output_type": "execute_result"
    }
   ],
   "source": [
    "preds[0]"
   ]
  },
  {
   "cell_type": "code",
   "execution_count": null,
   "id": "8fe76500",
   "metadata": {},
   "outputs": [],
   "source": []
  }
 ],
 "metadata": {
  "kernelspec": {
   "display_name": "Python 3 (ipykernel)",
   "language": "python",
   "name": "python3"
  },
  "language_info": {
   "codemirror_mode": {
    "name": "ipython",
    "version": 3
   },
   "file_extension": ".py",
   "mimetype": "text/x-python",
   "name": "python",
   "nbconvert_exporter": "python",
   "pygments_lexer": "ipython3",
   "version": "3.11.5"
  }
 },
 "nbformat": 4,
 "nbformat_minor": 5
}
