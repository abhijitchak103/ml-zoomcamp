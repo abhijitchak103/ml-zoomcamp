{
 "cells": [
  {
   "cell_type": "markdown",
   "id": "22d79f98",
   "metadata": {},
   "source": [
    "## ML_Zoomcamp_HW_2\n",
    "\n",
    "### Dataset\n",
    "\n",
    "In this notebook, we will use the Car price dataset.\n",
    "So first we download the dataset."
   ]
  },
  {
   "cell_type": "code",
   "execution_count": 1,
   "id": "da43fde3",
   "metadata": {},
   "outputs": [
    {
     "name": "stderr",
     "output_type": "stream",
     "text": [
      "--2023-10-01 01:43:11--  https://raw.githubusercontent.com/alexeygrigorev/mlbookcamp-code/master/chapter-02-car-price/data.csv\n",
      "Resolving raw.githubusercontent.com (raw.githubusercontent.com)... 185.199.111.133, 185.199.110.133, 185.199.109.133, ...\n",
      "Connecting to raw.githubusercontent.com (raw.githubusercontent.com)|185.199.111.133|:443... connected.\n",
      "HTTP request sent, awaiting response... 200 OK\n",
      "Length: 1475504 (1.4M) [text/plain]\n",
      "Saving to: 'data.csv'\n",
      "\n",
      "     0K .......... .......... .......... .......... ..........  3%  399K 3s\n",
      "    50K .......... .......... .......... .......... ..........  6%  375K 3s\n",
      "   100K .......... .......... .......... .......... .......... 10%  594K 3s\n",
      "   150K .......... .......... .......... .......... .......... 13%  773K 3s\n",
      "   200K .......... .......... .......... .......... .......... 17% 1.10M 2s\n",
      "   250K .......... .......... .......... .......... .......... 20%  684K 2s\n",
      "   300K .......... .......... .......... .......... .......... 24%  973K 2s\n",
      "   350K .......... .......... .......... .......... .......... 27%  727K 2s\n",
      "   400K .......... .......... .......... .......... .......... 31%  826K 2s\n",
      "   450K .......... .......... .......... .......... .......... 34% 1.21M 1s\n",
      "   500K .......... .......... .......... .......... .......... 38%  683K 1s\n",
      "   550K .......... .......... .......... .......... .......... 41% 1.52M 1s\n",
      "   600K .......... .......... .......... .......... .......... 45%  939K 1s\n",
      "   650K .......... .......... .......... .......... .......... 48% 1.16M 1s\n",
      "   700K .......... .......... .......... .......... .......... 52% 1.36M 1s\n",
      "   750K .......... .......... .......... .......... .......... 55%  664K 1s\n",
      "   800K .......... .......... .......... .......... .......... 58%  445K 1s\n",
      "   850K .......... .......... .......... .......... .......... 62%  954K 1s\n",
      "   900K .......... .......... .......... .......... .......... 65%  472K 1s\n",
      "   950K .......... .......... .......... .......... .......... 69% 1.15M 1s\n",
      "  1000K .......... .......... .......... .......... .......... 72% 1.22M 1s\n",
      "  1050K .......... .......... .......... .......... .......... 76%  633K 0s\n",
      "  1100K .......... .......... .......... .......... .......... 79% 1.04M 0s\n",
      "  1150K .......... .......... .......... .......... .......... 83% 1.34M 0s\n",
      "  1200K .......... .......... .......... .......... .......... 86% 1.52M 0s\n",
      "  1250K .......... .......... .......... .......... .......... 90% 1.47M 0s\n",
      "  1300K .......... .......... .......... .......... .......... 93%  573K 0s\n",
      "  1350K .......... .......... .......... .......... .......... 97%  419K 0s\n",
      "  1400K .......... .......... .......... ..........           100%  641K=1.9s\n",
      "\n",
      "2023-10-01 01:43:14 (755 KB/s) - 'data.csv' saved [1475504/1475504]\n",
      "\n"
     ]
    }
   ],
   "source": [
    "!wget https://raw.githubusercontent.com/alexeygrigorev/mlbookcamp-code/master/chapter-02-car-price/data.csv"
   ]
  },
  {
   "cell_type": "markdown",
   "id": "0ad6d99c",
   "metadata": {},
   "source": [
    "We'll keep working with the MSRP variable, and we'll transform it to a classification task."
   ]
  },
  {
   "cell_type": "markdown",
   "id": "c9d786c0",
   "metadata": {},
   "source": [
    "### Import Packages"
   ]
  },
  {
   "cell_type": "code",
   "execution_count": 1,
   "id": "2ab1038a",
   "metadata": {},
   "outputs": [],
   "source": [
    "import pandas as pd\n",
    "import numpy as np\n",
    "import matplotlib.pyplot as plt\n",
    "import seaborn as sns"
   ]
  },
  {
   "cell_type": "code",
   "execution_count": 2,
   "id": "c4bf1d5a",
   "metadata": {},
   "outputs": [
    {
     "data": {
      "text/html": [
       "<div>\n",
       "<style scoped>\n",
       "    .dataframe tbody tr th:only-of-type {\n",
       "        vertical-align: middle;\n",
       "    }\n",
       "\n",
       "    .dataframe tbody tr th {\n",
       "        vertical-align: top;\n",
       "    }\n",
       "\n",
       "    .dataframe thead th {\n",
       "        text-align: right;\n",
       "    }\n",
       "</style>\n",
       "<table border=\"1\" class=\"dataframe\">\n",
       "  <thead>\n",
       "    <tr style=\"text-align: right;\">\n",
       "      <th></th>\n",
       "      <th>Make</th>\n",
       "      <th>Model</th>\n",
       "      <th>Year</th>\n",
       "      <th>Engine Fuel Type</th>\n",
       "      <th>Engine HP</th>\n",
       "      <th>Engine Cylinders</th>\n",
       "      <th>Transmission Type</th>\n",
       "      <th>Driven_Wheels</th>\n",
       "      <th>Number of Doors</th>\n",
       "      <th>Market Category</th>\n",
       "      <th>Vehicle Size</th>\n",
       "      <th>Vehicle Style</th>\n",
       "      <th>highway MPG</th>\n",
       "      <th>city mpg</th>\n",
       "      <th>Popularity</th>\n",
       "      <th>MSRP</th>\n",
       "    </tr>\n",
       "  </thead>\n",
       "  <tbody>\n",
       "    <tr>\n",
       "      <th>0</th>\n",
       "      <td>BMW</td>\n",
       "      <td>1 Series M</td>\n",
       "      <td>2011</td>\n",
       "      <td>premium unleaded (required)</td>\n",
       "      <td>335.0</td>\n",
       "      <td>6.0</td>\n",
       "      <td>MANUAL</td>\n",
       "      <td>rear wheel drive</td>\n",
       "      <td>2.0</td>\n",
       "      <td>Factory Tuner,Luxury,High-Performance</td>\n",
       "      <td>Compact</td>\n",
       "      <td>Coupe</td>\n",
       "      <td>26</td>\n",
       "      <td>19</td>\n",
       "      <td>3916</td>\n",
       "      <td>46135</td>\n",
       "    </tr>\n",
       "    <tr>\n",
       "      <th>1</th>\n",
       "      <td>BMW</td>\n",
       "      <td>1 Series</td>\n",
       "      <td>2011</td>\n",
       "      <td>premium unleaded (required)</td>\n",
       "      <td>300.0</td>\n",
       "      <td>6.0</td>\n",
       "      <td>MANUAL</td>\n",
       "      <td>rear wheel drive</td>\n",
       "      <td>2.0</td>\n",
       "      <td>Luxury,Performance</td>\n",
       "      <td>Compact</td>\n",
       "      <td>Convertible</td>\n",
       "      <td>28</td>\n",
       "      <td>19</td>\n",
       "      <td>3916</td>\n",
       "      <td>40650</td>\n",
       "    </tr>\n",
       "    <tr>\n",
       "      <th>2</th>\n",
       "      <td>BMW</td>\n",
       "      <td>1 Series</td>\n",
       "      <td>2011</td>\n",
       "      <td>premium unleaded (required)</td>\n",
       "      <td>300.0</td>\n",
       "      <td>6.0</td>\n",
       "      <td>MANUAL</td>\n",
       "      <td>rear wheel drive</td>\n",
       "      <td>2.0</td>\n",
       "      <td>Luxury,High-Performance</td>\n",
       "      <td>Compact</td>\n",
       "      <td>Coupe</td>\n",
       "      <td>28</td>\n",
       "      <td>20</td>\n",
       "      <td>3916</td>\n",
       "      <td>36350</td>\n",
       "    </tr>\n",
       "    <tr>\n",
       "      <th>3</th>\n",
       "      <td>BMW</td>\n",
       "      <td>1 Series</td>\n",
       "      <td>2011</td>\n",
       "      <td>premium unleaded (required)</td>\n",
       "      <td>230.0</td>\n",
       "      <td>6.0</td>\n",
       "      <td>MANUAL</td>\n",
       "      <td>rear wheel drive</td>\n",
       "      <td>2.0</td>\n",
       "      <td>Luxury,Performance</td>\n",
       "      <td>Compact</td>\n",
       "      <td>Coupe</td>\n",
       "      <td>28</td>\n",
       "      <td>18</td>\n",
       "      <td>3916</td>\n",
       "      <td>29450</td>\n",
       "    </tr>\n",
       "    <tr>\n",
       "      <th>4</th>\n",
       "      <td>BMW</td>\n",
       "      <td>1 Series</td>\n",
       "      <td>2011</td>\n",
       "      <td>premium unleaded (required)</td>\n",
       "      <td>230.0</td>\n",
       "      <td>6.0</td>\n",
       "      <td>MANUAL</td>\n",
       "      <td>rear wheel drive</td>\n",
       "      <td>2.0</td>\n",
       "      <td>Luxury</td>\n",
       "      <td>Compact</td>\n",
       "      <td>Convertible</td>\n",
       "      <td>28</td>\n",
       "      <td>18</td>\n",
       "      <td>3916</td>\n",
       "      <td>34500</td>\n",
       "    </tr>\n",
       "  </tbody>\n",
       "</table>\n",
       "</div>"
      ],
      "text/plain": [
       "  Make       Model  Year             Engine Fuel Type  Engine HP  \\\n",
       "0  BMW  1 Series M  2011  premium unleaded (required)      335.0   \n",
       "1  BMW    1 Series  2011  premium unleaded (required)      300.0   \n",
       "2  BMW    1 Series  2011  premium unleaded (required)      300.0   \n",
       "3  BMW    1 Series  2011  premium unleaded (required)      230.0   \n",
       "4  BMW    1 Series  2011  premium unleaded (required)      230.0   \n",
       "\n",
       "   Engine Cylinders Transmission Type     Driven_Wheels  Number of Doors  \\\n",
       "0               6.0            MANUAL  rear wheel drive              2.0   \n",
       "1               6.0            MANUAL  rear wheel drive              2.0   \n",
       "2               6.0            MANUAL  rear wheel drive              2.0   \n",
       "3               6.0            MANUAL  rear wheel drive              2.0   \n",
       "4               6.0            MANUAL  rear wheel drive              2.0   \n",
       "\n",
       "                         Market Category Vehicle Size Vehicle Style  \\\n",
       "0  Factory Tuner,Luxury,High-Performance      Compact         Coupe   \n",
       "1                     Luxury,Performance      Compact   Convertible   \n",
       "2                Luxury,High-Performance      Compact         Coupe   \n",
       "3                     Luxury,Performance      Compact         Coupe   \n",
       "4                                 Luxury      Compact   Convertible   \n",
       "\n",
       "   highway MPG  city mpg  Popularity   MSRP  \n",
       "0           26        19        3916  46135  \n",
       "1           28        19        3916  40650  \n",
       "2           28        20        3916  36350  \n",
       "3           28        18        3916  29450  \n",
       "4           28        18        3916  34500  "
      ]
     },
     "execution_count": 2,
     "metadata": {},
     "output_type": "execute_result"
    }
   ],
   "source": [
    "# First we need to read the csv into a Dataframe\n",
    "data = pd.read_csv('data.csv')\n",
    "data.head()"
   ]
  },
  {
   "cell_type": "markdown",
   "id": "f948b6ca",
   "metadata": {},
   "source": [
    "### Features\n",
    "For the rest of the homework, you'll need to use only these columns:\n",
    "\n",
    "- Make\n",
    "- Model\n",
    "- Year\n",
    "- Engine HP\n",
    "- Engine Cylinders\n",
    "- Transmission Type\n",
    "- Vehicle Style\n",
    "- highway MPG\n",
    "- city mpg"
   ]
  },
  {
   "cell_type": "markdown",
   "id": "64b59d86",
   "metadata": {},
   "source": [
    "### Data Preparation\n",
    "\n",
    "We select only the features from above and transform their names\n",
    "data.columns = data.columns.str.replace(' ', '_').str.lower()\n",
    "Fill in the missing values of the selected features with 0.\n",
    "Rename MSRP variable to price."
   ]
  },
  {
   "cell_type": "code",
   "execution_count": 3,
   "id": "73ee89c1",
   "metadata": {},
   "outputs": [
    {
     "data": {
      "text/plain": [
       "Index(['make', 'model', 'year', 'engine_fuel_type', 'engine_hp',\n",
       "       'engine_cylinders', 'transmission_type', 'driven_wheels',\n",
       "       'number_of_doors', 'market_category', 'vehicle_size', 'vehicle_style',\n",
       "       'highway_mpg', 'city_mpg', 'popularity', 'price'],\n",
       "      dtype='object')"
      ]
     },
     "execution_count": 3,
     "metadata": {},
     "output_type": "execute_result"
    }
   ],
   "source": [
    "data.columns = data.columns.str.replace(' ', '_').str.lower()\n",
    "df = data.rename(columns={'msrp': 'price'}).copy()\n",
    "df.columns"
   ]
  },
  {
   "cell_type": "code",
   "execution_count": 4,
   "id": "afab500f",
   "metadata": {},
   "outputs": [
    {
     "name": "stdout",
     "output_type": "stream",
     "text": [
      "make                    0\n",
      "model                   0\n",
      "year                    0\n",
      "engine_fuel_type        3\n",
      "engine_hp              69\n",
      "engine_cylinders       30\n",
      "transmission_type       0\n",
      "driven_wheels           0\n",
      "number_of_doors         6\n",
      "market_category      3742\n",
      "vehicle_size            0\n",
      "vehicle_style           0\n",
      "highway_mpg             0\n",
      "city_mpg                0\n",
      "popularity              0\n",
      "price                   0\n",
      "dtype: int64\n",
      "\n",
      "make                 0\n",
      "model                0\n",
      "year                 0\n",
      "engine_fuel_type     0\n",
      "engine_hp            0\n",
      "engine_cylinders     0\n",
      "transmission_type    0\n",
      "driven_wheels        0\n",
      "number_of_doors      0\n",
      "market_category      0\n",
      "vehicle_size         0\n",
      "vehicle_style        0\n",
      "highway_mpg          0\n",
      "city_mpg             0\n",
      "popularity           0\n",
      "price                0\n",
      "dtype: int64\n"
     ]
    }
   ],
   "source": [
    "print(df.isnull().sum())\n",
    "print()\n",
    "df.fillna(0, inplace=True)\n",
    "print(df.isnull().sum())"
   ]
  },
  {
   "cell_type": "code",
   "execution_count": 5,
   "id": "c57949a3",
   "metadata": {},
   "outputs": [],
   "source": [
    "columns_to_use = ['make', 'model', 'year', 'engine_hp',\n",
    "       'engine_cylinders', 'transmission_type', 'vehicle_style',\n",
    "       'highway_mpg', 'city_mpg']"
   ]
  },
  {
   "cell_type": "code",
   "execution_count": 6,
   "id": "0eb218b2",
   "metadata": {},
   "outputs": [
    {
     "data": {
      "text/html": [
       "<div>\n",
       "<style scoped>\n",
       "    .dataframe tbody tr th:only-of-type {\n",
       "        vertical-align: middle;\n",
       "    }\n",
       "\n",
       "    .dataframe tbody tr th {\n",
       "        vertical-align: top;\n",
       "    }\n",
       "\n",
       "    .dataframe thead th {\n",
       "        text-align: right;\n",
       "    }\n",
       "</style>\n",
       "<table border=\"1\" class=\"dataframe\">\n",
       "  <thead>\n",
       "    <tr style=\"text-align: right;\">\n",
       "      <th></th>\n",
       "      <th>make</th>\n",
       "      <th>model</th>\n",
       "      <th>year</th>\n",
       "      <th>engine_hp</th>\n",
       "      <th>engine_cylinders</th>\n",
       "      <th>transmission_type</th>\n",
       "      <th>vehicle_style</th>\n",
       "      <th>highway_mpg</th>\n",
       "      <th>city_mpg</th>\n",
       "    </tr>\n",
       "  </thead>\n",
       "  <tbody>\n",
       "    <tr>\n",
       "      <th>0</th>\n",
       "      <td>BMW</td>\n",
       "      <td>1 Series M</td>\n",
       "      <td>2011</td>\n",
       "      <td>335.0</td>\n",
       "      <td>6.0</td>\n",
       "      <td>MANUAL</td>\n",
       "      <td>Coupe</td>\n",
       "      <td>26</td>\n",
       "      <td>19</td>\n",
       "    </tr>\n",
       "    <tr>\n",
       "      <th>1</th>\n",
       "      <td>BMW</td>\n",
       "      <td>1 Series</td>\n",
       "      <td>2011</td>\n",
       "      <td>300.0</td>\n",
       "      <td>6.0</td>\n",
       "      <td>MANUAL</td>\n",
       "      <td>Convertible</td>\n",
       "      <td>28</td>\n",
       "      <td>19</td>\n",
       "    </tr>\n",
       "    <tr>\n",
       "      <th>2</th>\n",
       "      <td>BMW</td>\n",
       "      <td>1 Series</td>\n",
       "      <td>2011</td>\n",
       "      <td>300.0</td>\n",
       "      <td>6.0</td>\n",
       "      <td>MANUAL</td>\n",
       "      <td>Coupe</td>\n",
       "      <td>28</td>\n",
       "      <td>20</td>\n",
       "    </tr>\n",
       "    <tr>\n",
       "      <th>3</th>\n",
       "      <td>BMW</td>\n",
       "      <td>1 Series</td>\n",
       "      <td>2011</td>\n",
       "      <td>230.0</td>\n",
       "      <td>6.0</td>\n",
       "      <td>MANUAL</td>\n",
       "      <td>Coupe</td>\n",
       "      <td>28</td>\n",
       "      <td>18</td>\n",
       "    </tr>\n",
       "    <tr>\n",
       "      <th>4</th>\n",
       "      <td>BMW</td>\n",
       "      <td>1 Series</td>\n",
       "      <td>2011</td>\n",
       "      <td>230.0</td>\n",
       "      <td>6.0</td>\n",
       "      <td>MANUAL</td>\n",
       "      <td>Convertible</td>\n",
       "      <td>28</td>\n",
       "      <td>18</td>\n",
       "    </tr>\n",
       "  </tbody>\n",
       "</table>\n",
       "</div>"
      ],
      "text/plain": [
       "  make       model  year  engine_hp  engine_cylinders transmission_type  \\\n",
       "0  BMW  1 Series M  2011      335.0               6.0            MANUAL   \n",
       "1  BMW    1 Series  2011      300.0               6.0            MANUAL   \n",
       "2  BMW    1 Series  2011      300.0               6.0            MANUAL   \n",
       "3  BMW    1 Series  2011      230.0               6.0            MANUAL   \n",
       "4  BMW    1 Series  2011      230.0               6.0            MANUAL   \n",
       "\n",
       "  vehicle_style  highway_mpg  city_mpg  \n",
       "0         Coupe           26        19  \n",
       "1   Convertible           28        19  \n",
       "2         Coupe           28        20  \n",
       "3         Coupe           28        18  \n",
       "4   Convertible           28        18  "
      ]
     },
     "execution_count": 6,
     "metadata": {},
     "output_type": "execute_result"
    }
   ],
   "source": [
    "df_car = df[columns_to_use].copy()\n",
    "df_car.head()"
   ]
  },
  {
   "cell_type": "markdown",
   "id": "3222af69",
   "metadata": {},
   "source": [
    "Question 1\n",
    "\n",
    "What is the most frequent observation (mode) for the column transmission_type?\n",
    "\n",
    "- AUTOMATIC\n",
    "- MANUAL\n",
    "- AUTOMATED_MANUAL\n",
    "- DIRECT_DRIVE\n"
   ]
  },
  {
   "cell_type": "code",
   "execution_count": 7,
   "id": "62885c5f",
   "metadata": {},
   "outputs": [
    {
     "data": {
      "text/plain": [
       "'AUTOMATIC'"
      ]
     },
     "execution_count": 7,
     "metadata": {},
     "output_type": "execute_result"
    }
   ],
   "source": [
    "df_car.transmission_type.value_counts().index[0]"
   ]
  },
  {
   "cell_type": "markdown",
   "id": "b6f2b4b5",
   "metadata": {},
   "source": [
    "Question 2\n",
    "\n",
    "Create the correlation matrix for the numerical features of your dataset. In a correlation matrix, you compute the correlation coefficient between every pair of features in the dataset.\n",
    "\n",
    "What are the two features that have the biggest correlation in this dataset?\n",
    "\n",
    "- engine_hp and year\n",
    "- engine_hp and engine_cylinders\n",
    "- highway_mpg and engine_cylinders\n",
    "- highway_mpg and city_mpg\n"
   ]
  },
  {
   "cell_type": "code",
   "execution_count": 8,
   "id": "7f524104",
   "metadata": {},
   "outputs": [
    {
     "data": {
      "text/plain": [
       "make                  object\n",
       "model                 object\n",
       "year                   int64\n",
       "engine_hp            float64\n",
       "engine_cylinders     float64\n",
       "transmission_type     object\n",
       "vehicle_style         object\n",
       "highway_mpg            int64\n",
       "city_mpg               int64\n",
       "dtype: object"
      ]
     },
     "execution_count": 8,
     "metadata": {},
     "output_type": "execute_result"
    }
   ],
   "source": [
    "df_car.dtypes"
   ]
  },
  {
   "cell_type": "code",
   "execution_count": 9,
   "id": "9499ffb6",
   "metadata": {},
   "outputs": [
    {
     "data": {
      "text/plain": [
       "['year', 'engine_hp', 'engine_cylinders', 'highway_mpg', 'city_mpg']"
      ]
     },
     "execution_count": 9,
     "metadata": {},
     "output_type": "execute_result"
    }
   ],
   "source": [
    "numerical = [x for x in df_car.columns if df_car[x].dtype != 'O']\n",
    "numerical"
   ]
  },
  {
   "cell_type": "code",
   "execution_count": 10,
   "id": "9ce28d30",
   "metadata": {},
   "outputs": [
    {
     "data": {
      "text/plain": [
       "highway_mpg       engine_cylinders    0.614541\n",
       "engine_hp         engine_cylinders    0.774851\n",
       "engine_cylinders  engine_hp           0.774851\n",
       "city_mpg          highway_mpg         0.886829\n",
       "highway_mpg       city_mpg            0.886829\n",
       "year              year                1.000000\n",
       "engine_cylinders  engine_cylinders    1.000000\n",
       "engine_hp         engine_hp           1.000000\n",
       "highway_mpg       highway_mpg         1.000000\n",
       "city_mpg          city_mpg            1.000000\n",
       "dtype: float64"
      ]
     },
     "execution_count": 10,
     "metadata": {},
     "output_type": "execute_result"
    }
   ],
   "source": [
    "corr_numerical = df_car[numerical].corr().abs()\n",
    "corr_numerical = corr_numerical.unstack()\n",
    "sorted_corr = corr_numerical.sort_values(kind=\"quicksort\")\n",
    "sorted_corr[-10:]"
   ]
  },
  {
   "cell_type": "markdown",
   "id": "91620437",
   "metadata": {},
   "source": [
    "highway_mpg and city_mpg have the highest correlation of 0.88 which is very strong"
   ]
  },
  {
   "cell_type": "markdown",
   "id": "17a7ff27",
   "metadata": {},
   "source": [
    "### Make price binary\n",
    "\n",
    "Now we need to turn the price variable from numeric into a binary format.\n",
    "\n",
    "Let's create a variable above_average which is 1 if the price is above its mean value and 0 otherwise.\n"
   ]
  },
  {
   "cell_type": "code",
   "execution_count": 11,
   "id": "dea094a3",
   "metadata": {},
   "outputs": [
    {
     "data": {
      "text/plain": [
       "0        1\n",
       "1        1\n",
       "2        0\n",
       "3        0\n",
       "4        0\n",
       "        ..\n",
       "11909    1\n",
       "11910    1\n",
       "11911    1\n",
       "11912    1\n",
       "11913    0\n",
       "Name: price, Length: 11914, dtype: int32"
      ]
     },
     "execution_count": 11,
     "metadata": {},
     "output_type": "execute_result"
    }
   ],
   "source": [
    "prices = (df.price > df.price.mean()).astype('int')\n",
    "prices"
   ]
  },
  {
   "cell_type": "markdown",
   "id": "c1821d9b",
   "metadata": {},
   "source": [
    "### Split the data\n",
    "\n",
    "Split your data in train/val/test sets with 60%/20%/20% distribution.\n",
    "\n",
    "Use Scikit-Learn for that (the train_test_split function) and set the seed to 42.\n",
    "\n",
    "Make sure that the target value (above_average) is not in your dataframe."
   ]
  },
  {
   "cell_type": "code",
   "execution_count": 12,
   "id": "7ee2537b",
   "metadata": {},
   "outputs": [],
   "source": [
    "from sklearn.model_selection import train_test_split"
   ]
  },
  {
   "cell_type": "code",
   "execution_count": 13,
   "id": "720504ca",
   "metadata": {},
   "outputs": [],
   "source": [
    "df_full_train, df_test, y_full_train, y_test = train_test_split(df_car, prices, test_size=0.2, random_state=42)"
   ]
  },
  {
   "cell_type": "code",
   "execution_count": 14,
   "id": "e81cd6c2",
   "metadata": {},
   "outputs": [],
   "source": [
    "df_train, df_val, y_train, y_val = train_test_split(df_full_train, y_full_train, test_size=0.25, random_state=42)"
   ]
  },
  {
   "cell_type": "code",
   "execution_count": 15,
   "id": "1c12a276",
   "metadata": {},
   "outputs": [],
   "source": [
    "df_train = df_train.reset_index(drop=True)\n",
    "df_val = df_val.reset_index(drop=True)\n",
    "df_test = df_test.reset_index(drop=True)"
   ]
  },
  {
   "cell_type": "code",
   "execution_count": 16,
   "id": "c9fb4c94",
   "metadata": {},
   "outputs": [
    {
     "data": {
      "text/plain": [
       "(7148, 2383, 2383)"
      ]
     },
     "execution_count": 16,
     "metadata": {},
     "output_type": "execute_result"
    }
   ],
   "source": [
    "len(df_train), len(df_val), len(df_test)"
   ]
  },
  {
   "cell_type": "code",
   "execution_count": 17,
   "id": "c8323607",
   "metadata": {},
   "outputs": [
    {
     "data": {
      "text/plain": [
       "(7148, 2383, 2383)"
      ]
     },
     "execution_count": 17,
     "metadata": {},
     "output_type": "execute_result"
    }
   ],
   "source": [
    "len(y_train), len(y_val), len(y_test)"
   ]
  },
  {
   "cell_type": "markdown",
   "id": "f9dcde3e",
   "metadata": {},
   "source": [
    "Question 3\n",
    "\n",
    "Calculate the mutual information score between above_average and other categorical variables in our dataset. Use the training set only.\n",
    "Round the scores to 2 decimals using round(score, 2).\n",
    "Which of these variables has the lowest mutual information score?\n",
    "\n",
    "- make\n",
    "- model\n",
    "- transmission_type\n",
    "- vehicle_style\n"
   ]
  },
  {
   "cell_type": "code",
   "execution_count": 18,
   "id": "a6f4f8bd",
   "metadata": {},
   "outputs": [],
   "source": [
    "from sklearn.metrics import mutual_info_score"
   ]
  },
  {
   "cell_type": "code",
   "execution_count": 19,
   "id": "32477737",
   "metadata": {},
   "outputs": [
    {
     "data": {
      "text/plain": [
       "['make', 'model', 'transmission_type', 'vehicle_style']"
      ]
     },
     "execution_count": 19,
     "metadata": {},
     "output_type": "execute_result"
    }
   ],
   "source": [
    "categorical = [x for x in df_car.columns if x not in numerical]\n",
    "categorical"
   ]
  },
  {
   "cell_type": "code",
   "execution_count": 20,
   "id": "68e9285c",
   "metadata": {},
   "outputs": [
    {
     "name": "stdout",
     "output_type": "stream",
     "text": [
      "Mutual Score between make and above_average is 0.24\n",
      "\n",
      "Mutual Score between model and above_average is 0.46\n",
      "\n",
      "Mutual Score between transmission_type and above_average is 0.02\n",
      "\n",
      "Mutual Score between vehicle_style and above_average is 0.08\n",
      "\n"
     ]
    }
   ],
   "source": [
    "for c in categorical:\n",
    "    score = mutual_info_score(df_train[c], y_train)\n",
    "    print(f\"\"\"Mutual Score between {c} and above_average is {round(score, 2)}\n",
    "\"\"\")"
   ]
  },
  {
   "cell_type": "markdown",
   "id": "a282515c",
   "metadata": {},
   "source": [
    "Question 4\n",
    "\n",
    "Now let's train a logistic regression.\n",
    "Remember that we have several categorical variables in the dataset. Include them using one-hot encoding.\n",
    "Fit the model on the training dataset.\n",
    "\n",
    "To make sure the results are reproducible across different versions of Scikit-Learn, fit the model with these parameters:\n",
    "\n",
    "model = LogisticRegression(solver='liblinear', C=10, max_iter=1000, random_state=42)\n",
    "\n",
    "Calculate the accuracy on the validation dataset and round it to 2 decimal digits.\n",
    "What accuracy did you get?\n",
    "\n",
    "- 0.60\n",
    "- 0.72\n",
    "- 0.84\n",
    "- 0.95"
   ]
  },
  {
   "cell_type": "code",
   "execution_count": 21,
   "id": "5dbe2963",
   "metadata": {},
   "outputs": [],
   "source": [
    "from sklearn.feature_extraction import DictVectorizer"
   ]
  },
  {
   "cell_type": "code",
   "execution_count": 22,
   "id": "db54042f",
   "metadata": {},
   "outputs": [],
   "source": [
    "dv = DictVectorizer(sparse=False)\n",
    "\n",
    "train_dict = df_train[categorical + numerical].to_dict(orient='records')\n",
    "X_train = dv.fit_transform(train_dict)\n",
    "\n",
    "val_dict = df_val[categorical + numerical].to_dict(orient='records')\n",
    "X_val = dv.transform(val_dict)"
   ]
  },
  {
   "cell_type": "code",
   "execution_count": 23,
   "id": "0ac380f7",
   "metadata": {},
   "outputs": [],
   "source": [
    "from sklearn.linear_model import LogisticRegression, Ridge"
   ]
  },
  {
   "cell_type": "code",
   "execution_count": 24,
   "id": "fcd3d228",
   "metadata": {},
   "outputs": [],
   "source": [
    "model = LogisticRegression(solver='liblinear', C=10, max_iter=1000, random_state=42)"
   ]
  },
  {
   "cell_type": "code",
   "execution_count": 25,
   "id": "161e9fa3",
   "metadata": {},
   "outputs": [
    {
     "data": {
      "text/html": [
       "<style>#sk-container-id-1 {color: black;}#sk-container-id-1 pre{padding: 0;}#sk-container-id-1 div.sk-toggleable {background-color: white;}#sk-container-id-1 label.sk-toggleable__label {cursor: pointer;display: block;width: 100%;margin-bottom: 0;padding: 0.3em;box-sizing: border-box;text-align: center;}#sk-container-id-1 label.sk-toggleable__label-arrow:before {content: \"▸\";float: left;margin-right: 0.25em;color: #696969;}#sk-container-id-1 label.sk-toggleable__label-arrow:hover:before {color: black;}#sk-container-id-1 div.sk-estimator:hover label.sk-toggleable__label-arrow:before {color: black;}#sk-container-id-1 div.sk-toggleable__content {max-height: 0;max-width: 0;overflow: hidden;text-align: left;background-color: #f0f8ff;}#sk-container-id-1 div.sk-toggleable__content pre {margin: 0.2em;color: black;border-radius: 0.25em;background-color: #f0f8ff;}#sk-container-id-1 input.sk-toggleable__control:checked~div.sk-toggleable__content {max-height: 200px;max-width: 100%;overflow: auto;}#sk-container-id-1 input.sk-toggleable__control:checked~label.sk-toggleable__label-arrow:before {content: \"▾\";}#sk-container-id-1 div.sk-estimator input.sk-toggleable__control:checked~label.sk-toggleable__label {background-color: #d4ebff;}#sk-container-id-1 div.sk-label input.sk-toggleable__control:checked~label.sk-toggleable__label {background-color: #d4ebff;}#sk-container-id-1 input.sk-hidden--visually {border: 0;clip: rect(1px 1px 1px 1px);clip: rect(1px, 1px, 1px, 1px);height: 1px;margin: -1px;overflow: hidden;padding: 0;position: absolute;width: 1px;}#sk-container-id-1 div.sk-estimator {font-family: monospace;background-color: #f0f8ff;border: 1px dotted black;border-radius: 0.25em;box-sizing: border-box;margin-bottom: 0.5em;}#sk-container-id-1 div.sk-estimator:hover {background-color: #d4ebff;}#sk-container-id-1 div.sk-parallel-item::after {content: \"\";width: 100%;border-bottom: 1px solid gray;flex-grow: 1;}#sk-container-id-1 div.sk-label:hover label.sk-toggleable__label {background-color: #d4ebff;}#sk-container-id-1 div.sk-serial::before {content: \"\";position: absolute;border-left: 1px solid gray;box-sizing: border-box;top: 0;bottom: 0;left: 50%;z-index: 0;}#sk-container-id-1 div.sk-serial {display: flex;flex-direction: column;align-items: center;background-color: white;padding-right: 0.2em;padding-left: 0.2em;position: relative;}#sk-container-id-1 div.sk-item {position: relative;z-index: 1;}#sk-container-id-1 div.sk-parallel {display: flex;align-items: stretch;justify-content: center;background-color: white;position: relative;}#sk-container-id-1 div.sk-item::before, #sk-container-id-1 div.sk-parallel-item::before {content: \"\";position: absolute;border-left: 1px solid gray;box-sizing: border-box;top: 0;bottom: 0;left: 50%;z-index: -1;}#sk-container-id-1 div.sk-parallel-item {display: flex;flex-direction: column;z-index: 1;position: relative;background-color: white;}#sk-container-id-1 div.sk-parallel-item:first-child::after {align-self: flex-end;width: 50%;}#sk-container-id-1 div.sk-parallel-item:last-child::after {align-self: flex-start;width: 50%;}#sk-container-id-1 div.sk-parallel-item:only-child::after {width: 0;}#sk-container-id-1 div.sk-dashed-wrapped {border: 1px dashed gray;margin: 0 0.4em 0.5em 0.4em;box-sizing: border-box;padding-bottom: 0.4em;background-color: white;}#sk-container-id-1 div.sk-label label {font-family: monospace;font-weight: bold;display: inline-block;line-height: 1.2em;}#sk-container-id-1 div.sk-label-container {text-align: center;}#sk-container-id-1 div.sk-container {/* jupyter's `normalize.less` sets `[hidden] { display: none; }` but bootstrap.min.css set `[hidden] { display: none !important; }` so we also need the `!important` here to be able to override the default hidden behavior on the sphinx rendered scikit-learn.org. See: https://github.com/scikit-learn/scikit-learn/issues/21755 */display: inline-block !important;position: relative;}#sk-container-id-1 div.sk-text-repr-fallback {display: none;}</style><div id=\"sk-container-id-1\" class=\"sk-top-container\"><div class=\"sk-text-repr-fallback\"><pre>LogisticRegression(C=10, max_iter=1000, random_state=42, solver=&#x27;liblinear&#x27;)</pre><b>In a Jupyter environment, please rerun this cell to show the HTML representation or trust the notebook. <br />On GitHub, the HTML representation is unable to render, please try loading this page with nbviewer.org.</b></div><div class=\"sk-container\" hidden><div class=\"sk-item\"><div class=\"sk-estimator sk-toggleable\"><input class=\"sk-toggleable__control sk-hidden--visually\" id=\"sk-estimator-id-1\" type=\"checkbox\" checked><label for=\"sk-estimator-id-1\" class=\"sk-toggleable__label sk-toggleable__label-arrow\">LogisticRegression</label><div class=\"sk-toggleable__content\"><pre>LogisticRegression(C=10, max_iter=1000, random_state=42, solver=&#x27;liblinear&#x27;)</pre></div></div></div></div></div>"
      ],
      "text/plain": [
       "LogisticRegression(C=10, max_iter=1000, random_state=42, solver='liblinear')"
      ]
     },
     "execution_count": 25,
     "metadata": {},
     "output_type": "execute_result"
    }
   ],
   "source": [
    "model.fit(X_train, y_train)"
   ]
  },
  {
   "cell_type": "code",
   "execution_count": 26,
   "id": "283d8370",
   "metadata": {},
   "outputs": [
    {
     "data": {
      "text/plain": [
       "0.95"
      ]
     },
     "execution_count": 26,
     "metadata": {},
     "output_type": "execute_result"
    }
   ],
   "source": [
    "y_pred = model.predict_proba(X_val)[:, 1]\n",
    "churn_decision = (y_pred >= 0.5)\n",
    "accuracy = (y_val == churn_decision).mean()\n",
    "round(accuracy, 2)"
   ]
  },
  {
   "cell_type": "markdown",
   "id": "1a328b40",
   "metadata": {},
   "source": [
    "Question 5\n",
    "\n",
    "Let's find the least useful feature using the feature elimination technique.\n",
    "Train a model with all these features (using the same parameters as in Q4).\n",
    "Now exclude each feature from this set and train a model without it. Record the accuracy for each model.\n",
    "For each feature, calculate the difference between the original accuracy and the accuracy without the feature.\n",
    "\n",
    "Which of following feature has the smallest difference?\n",
    "\n",
    "- year\n",
    "- engine_hp\n",
    "- transmission_type\n",
    "- city_mpg\n",
    "\n",
    "**Note**: the difference doesn't have to be positive\n",
    "\n"
   ]
  },
  {
   "cell_type": "code",
   "execution_count": 27,
   "id": "a4efe1cb",
   "metadata": {},
   "outputs": [],
   "source": [
    "scores = dict()\n",
    "differences = dict()\n",
    "\n",
    "for c in df_train.columns:\n",
    "    columns = [x for x in df_train.columns if x != c]\n",
    "    numerical_col = [x for x in columns if df_train[x].dtype != 'O']\n",
    "    categorical_col = [x for x in columns if x not in numerical_col]\n",
    "    train_dict = df_train[categorical_col + numerical_col].to_dict(orient='records')\n",
    "    X_train = dv.fit_transform(train_dict)\n",
    "\n",
    "    val_dict = df_val[categorical_col + numerical_col].to_dict(orient='records')\n",
    "    X_val = dv.transform(val_dict)\n",
    "\n",
    "    model_iter = LogisticRegression(solver='liblinear', C=10, max_iter=1000, random_state=42)\n",
    "    model_iter.fit(X_train, y_train)\n",
    "    \n",
    "    y_pred = model_iter.predict_proba(X_val)[:, 1]\n",
    "    churn_decision = (y_pred >= 0.5)\n",
    "    accuracy_c = (y_val == churn_decision).mean()\n",
    "\n",
    "    name = 'without '+ c\n",
    "    scores[name] = accuracy_c\n",
    "    differences[name] = accuracy_c - accuracy"
   ]
  },
  {
   "cell_type": "code",
   "execution_count": 28,
   "id": "bb18838a",
   "metadata": {},
   "outputs": [
    {
     "data": {
      "text/plain": [
       "'without city_mpg'"
      ]
     },
     "execution_count": 28,
     "metadata": {},
     "output_type": "execute_result"
    }
   ],
   "source": [
    "values = []\n",
    "keys = []\n",
    "\n",
    "for k in differences:\n",
    "    keys.append(k)\n",
    "    values.append(abs(differences[k]))\n",
    "\n",
    "keys[np.argmin(values)]"
   ]
  },
  {
   "cell_type": "markdown",
   "id": "414e9209",
   "metadata": {},
   "source": [
    "Question 6\n",
    "\n",
    "For this question, we'll see how to use a linear regression model from Scikit-Learn.\n",
    "We'll need to use the original column price. Apply the logarithmic transformation to this column.\n",
    "\n",
    "Fit the Ridge regression model on the training data with a solver 'sag'. Set the seed to 42.\n",
    "This model also has a parameter alpha. Let's try the following values: [0, 0.01, 0.1, 1, 10].\n",
    "\n",
    "Round your RMSE scores to 3 decimal digits.\n",
    "Which of these alphas leads to the best RMSE on the validation set?\n",
    "\n",
    "- 0\n",
    "- 0.01\n",
    "- 0.1\n",
    "- 1\n",
    "- 10\n",
    "\n",
    "**Note**: If there are multiple options, select the smallest alpha."
   ]
  },
  {
   "cell_type": "code",
   "execution_count": 29,
   "metadata": {},
   "outputs": [],
   "source": [
    "alphas = [0, 0.01, 0.1, 1, 10]"
   ]
  },
  {
   "cell_type": "code",
   "execution_count": 34,
   "id": "0088683b",
   "metadata": {},
   "outputs": [],
   "source": [
    "from sklearn.metrics import mean_squared_error"
   ]
  },
  {
   "cell_type": "code",
   "execution_count": 139,
   "id": "a88048a9",
   "metadata": {},
   "outputs": [],
   "source": [
    "df_ridge = data[columns_to_use].copy()"
   ]
  },
  {
   "cell_type": "code",
   "execution_count": 140,
   "id": "e8d665d4",
   "metadata": {},
   "outputs": [
    {
     "data": {
      "text/plain": [
       "make                  0\n",
       "model                 0\n",
       "year                  0\n",
       "engine_hp            69\n",
       "engine_cylinders     30\n",
       "transmission_type     0\n",
       "vehicle_style         0\n",
       "highway_mpg           0\n",
       "city_mpg              0\n",
       "dtype: int64"
      ]
     },
     "execution_count": 140,
     "metadata": {},
     "output_type": "execute_result"
    }
   ],
   "source": [
    "df_ridge.isnull().sum()"
   ]
  },
  {
   "cell_type": "code",
   "execution_count": 141,
   "id": "118d3e83",
   "metadata": {},
   "outputs": [
    {
     "data": {
      "text/plain": [
       "(['make', 'model', 'transmission_type', 'vehicle_style'],\n",
       " ['year', 'engine_hp', 'engine_cylinders', 'highway_mpg'])"
      ]
     },
     "execution_count": 141,
     "metadata": {},
     "output_type": "execute_result"
    }
   ],
   "source": [
    "categorical_col, numerical_col"
   ]
  },
  {
   "cell_type": "code",
   "execution_count": 142,
   "id": "3f7d92ea",
   "metadata": {},
   "outputs": [],
   "source": [
    "engine_hp_mean = df_ridge.engine_hp.mean()"
   ]
  },
  {
   "cell_type": "code",
   "execution_count": 143,
   "id": "2bbbcf07",
   "metadata": {},
   "outputs": [],
   "source": [
    "engine_cylinders_mode = df_ridge.engine_cylinders.mode()[0]"
   ]
  },
  {
   "cell_type": "code",
   "execution_count": 144,
   "id": "a677460f",
   "metadata": {},
   "outputs": [],
   "source": [
    "df_ridge.engine_hp.fillna(engine_hp_mean, inplace=True)\n",
    "df_ridge.engine_cylinders.fillna(engine_cylinders_mode, inplace=True)"
   ]
  },
  {
   "cell_type": "code",
   "execution_count": 145,
   "id": "8ead3fda",
   "metadata": {},
   "outputs": [
    {
     "data": {
      "text/html": [
       "<div>\n",
       "<style scoped>\n",
       "    .dataframe tbody tr th:only-of-type {\n",
       "        vertical-align: middle;\n",
       "    }\n",
       "\n",
       "    .dataframe tbody tr th {\n",
       "        vertical-align: top;\n",
       "    }\n",
       "\n",
       "    .dataframe thead th {\n",
       "        text-align: right;\n",
       "    }\n",
       "</style>\n",
       "<table border=\"1\" class=\"dataframe\">\n",
       "  <thead>\n",
       "    <tr style=\"text-align: right;\">\n",
       "      <th></th>\n",
       "      <th>make</th>\n",
       "      <th>model</th>\n",
       "      <th>year</th>\n",
       "      <th>engine_hp</th>\n",
       "      <th>engine_cylinders</th>\n",
       "      <th>transmission_type</th>\n",
       "      <th>vehicle_style</th>\n",
       "      <th>highway_mpg</th>\n",
       "      <th>city_mpg</th>\n",
       "    </tr>\n",
       "  </thead>\n",
       "  <tbody>\n",
       "    <tr>\n",
       "      <th>0</th>\n",
       "      <td>BMW</td>\n",
       "      <td>1 Series M</td>\n",
       "      <td>2011</td>\n",
       "      <td>335.0</td>\n",
       "      <td>6.0</td>\n",
       "      <td>MANUAL</td>\n",
       "      <td>Coupe</td>\n",
       "      <td>26</td>\n",
       "      <td>19</td>\n",
       "    </tr>\n",
       "    <tr>\n",
       "      <th>1</th>\n",
       "      <td>BMW</td>\n",
       "      <td>1 Series</td>\n",
       "      <td>2011</td>\n",
       "      <td>300.0</td>\n",
       "      <td>6.0</td>\n",
       "      <td>MANUAL</td>\n",
       "      <td>Convertible</td>\n",
       "      <td>28</td>\n",
       "      <td>19</td>\n",
       "    </tr>\n",
       "    <tr>\n",
       "      <th>2</th>\n",
       "      <td>BMW</td>\n",
       "      <td>1 Series</td>\n",
       "      <td>2011</td>\n",
       "      <td>300.0</td>\n",
       "      <td>6.0</td>\n",
       "      <td>MANUAL</td>\n",
       "      <td>Coupe</td>\n",
       "      <td>28</td>\n",
       "      <td>20</td>\n",
       "    </tr>\n",
       "    <tr>\n",
       "      <th>3</th>\n",
       "      <td>BMW</td>\n",
       "      <td>1 Series</td>\n",
       "      <td>2011</td>\n",
       "      <td>230.0</td>\n",
       "      <td>6.0</td>\n",
       "      <td>MANUAL</td>\n",
       "      <td>Coupe</td>\n",
       "      <td>28</td>\n",
       "      <td>18</td>\n",
       "    </tr>\n",
       "    <tr>\n",
       "      <th>4</th>\n",
       "      <td>BMW</td>\n",
       "      <td>1 Series</td>\n",
       "      <td>2011</td>\n",
       "      <td>230.0</td>\n",
       "      <td>6.0</td>\n",
       "      <td>MANUAL</td>\n",
       "      <td>Convertible</td>\n",
       "      <td>28</td>\n",
       "      <td>18</td>\n",
       "    </tr>\n",
       "  </tbody>\n",
       "</table>\n",
       "</div>"
      ],
      "text/plain": [
       "  make       model  year  engine_hp  engine_cylinders transmission_type  \\\n",
       "0  BMW  1 Series M  2011      335.0               6.0            MANUAL   \n",
       "1  BMW    1 Series  2011      300.0               6.0            MANUAL   \n",
       "2  BMW    1 Series  2011      300.0               6.0            MANUAL   \n",
       "3  BMW    1 Series  2011      230.0               6.0            MANUAL   \n",
       "4  BMW    1 Series  2011      230.0               6.0            MANUAL   \n",
       "\n",
       "  vehicle_style  highway_mpg  city_mpg  \n",
       "0         Coupe           26        19  \n",
       "1   Convertible           28        19  \n",
       "2         Coupe           28        20  \n",
       "3         Coupe           28        18  \n",
       "4   Convertible           28        18  "
      ]
     },
     "execution_count": 145,
     "metadata": {},
     "output_type": "execute_result"
    }
   ],
   "source": [
    "df_ridge.head()"
   ]
  },
  {
   "cell_type": "code",
   "execution_count": 146,
   "id": "5e1728ec",
   "metadata": {},
   "outputs": [
    {
     "data": {
      "text/plain": [
       "make                 0\n",
       "model                0\n",
       "year                 0\n",
       "engine_hp            0\n",
       "engine_cylinders     0\n",
       "transmission_type    0\n",
       "vehicle_style        0\n",
       "highway_mpg          0\n",
       "city_mpg             0\n",
       "dtype: int64"
      ]
     },
     "execution_count": 146,
     "metadata": {},
     "output_type": "execute_result"
    }
   ],
   "source": [
    "df_ridge.isnull().sum()"
   ]
  },
  {
   "cell_type": "code",
   "execution_count": 147,
   "id": "fc06ff60",
   "metadata": {},
   "outputs": [],
   "source": [
    "from sklearn.preprocessing import MinMaxScaler"
   ]
  },
  {
   "cell_type": "code",
   "execution_count": 148,
   "id": "96c0dfc5",
   "metadata": {},
   "outputs": [],
   "source": [
    "scaler = MinMaxScaler()"
   ]
  },
  {
   "cell_type": "code",
   "execution_count": 149,
   "id": "1dee175b",
   "metadata": {},
   "outputs": [],
   "source": [
    "y_ridge = df.price"
   ]
  },
  {
   "cell_type": "code",
   "execution_count": 150,
   "id": "f6b8b947",
   "metadata": {},
   "outputs": [
    {
     "data": {
      "text/html": [
       "<div>\n",
       "<style scoped>\n",
       "    .dataframe tbody tr th:only-of-type {\n",
       "        vertical-align: middle;\n",
       "    }\n",
       "\n",
       "    .dataframe tbody tr th {\n",
       "        vertical-align: top;\n",
       "    }\n",
       "\n",
       "    .dataframe thead th {\n",
       "        text-align: right;\n",
       "    }\n",
       "</style>\n",
       "<table border=\"1\" class=\"dataframe\">\n",
       "  <thead>\n",
       "    <tr style=\"text-align: right;\">\n",
       "      <th></th>\n",
       "      <th>make</th>\n",
       "      <th>model</th>\n",
       "      <th>year</th>\n",
       "      <th>engine_hp</th>\n",
       "      <th>engine_cylinders</th>\n",
       "      <th>transmission_type</th>\n",
       "      <th>vehicle_style</th>\n",
       "      <th>highway_mpg</th>\n",
       "      <th>city_mpg</th>\n",
       "    </tr>\n",
       "  </thead>\n",
       "  <tbody>\n",
       "    <tr>\n",
       "      <th>0</th>\n",
       "      <td>BMW</td>\n",
       "      <td>1 Series M</td>\n",
       "      <td>2011</td>\n",
       "      <td>335.0</td>\n",
       "      <td>6.0</td>\n",
       "      <td>MANUAL</td>\n",
       "      <td>Coupe</td>\n",
       "      <td>26</td>\n",
       "      <td>19</td>\n",
       "    </tr>\n",
       "    <tr>\n",
       "      <th>1</th>\n",
       "      <td>BMW</td>\n",
       "      <td>1 Series</td>\n",
       "      <td>2011</td>\n",
       "      <td>300.0</td>\n",
       "      <td>6.0</td>\n",
       "      <td>MANUAL</td>\n",
       "      <td>Convertible</td>\n",
       "      <td>28</td>\n",
       "      <td>19</td>\n",
       "    </tr>\n",
       "    <tr>\n",
       "      <th>2</th>\n",
       "      <td>BMW</td>\n",
       "      <td>1 Series</td>\n",
       "      <td>2011</td>\n",
       "      <td>300.0</td>\n",
       "      <td>6.0</td>\n",
       "      <td>MANUAL</td>\n",
       "      <td>Coupe</td>\n",
       "      <td>28</td>\n",
       "      <td>20</td>\n",
       "    </tr>\n",
       "    <tr>\n",
       "      <th>3</th>\n",
       "      <td>BMW</td>\n",
       "      <td>1 Series</td>\n",
       "      <td>2011</td>\n",
       "      <td>230.0</td>\n",
       "      <td>6.0</td>\n",
       "      <td>MANUAL</td>\n",
       "      <td>Coupe</td>\n",
       "      <td>28</td>\n",
       "      <td>18</td>\n",
       "    </tr>\n",
       "    <tr>\n",
       "      <th>4</th>\n",
       "      <td>BMW</td>\n",
       "      <td>1 Series</td>\n",
       "      <td>2011</td>\n",
       "      <td>230.0</td>\n",
       "      <td>6.0</td>\n",
       "      <td>MANUAL</td>\n",
       "      <td>Convertible</td>\n",
       "      <td>28</td>\n",
       "      <td>18</td>\n",
       "    </tr>\n",
       "  </tbody>\n",
       "</table>\n",
       "</div>"
      ],
      "text/plain": [
       "  make       model  year  engine_hp  engine_cylinders transmission_type  \\\n",
       "0  BMW  1 Series M  2011      335.0               6.0            MANUAL   \n",
       "1  BMW    1 Series  2011      300.0               6.0            MANUAL   \n",
       "2  BMW    1 Series  2011      300.0               6.0            MANUAL   \n",
       "3  BMW    1 Series  2011      230.0               6.0            MANUAL   \n",
       "4  BMW    1 Series  2011      230.0               6.0            MANUAL   \n",
       "\n",
       "  vehicle_style  highway_mpg  city_mpg  \n",
       "0         Coupe           26        19  \n",
       "1   Convertible           28        19  \n",
       "2         Coupe           28        20  \n",
       "3         Coupe           28        18  \n",
       "4   Convertible           28        18  "
      ]
     },
     "execution_count": 150,
     "metadata": {},
     "output_type": "execute_result"
    }
   ],
   "source": [
    "df_ridge.head()"
   ]
  },
  {
   "cell_type": "code",
   "execution_count": 151,
   "id": "f3567c5f",
   "metadata": {},
   "outputs": [],
   "source": [
    "df_full_train_ridge, df_test_ridge, y_full_train_ridge, y_test_ridge = train_test_split(df_ridge, y_ridge, test_size=0.2, random_state=42)\n",
    "df_train_ridge, df_val_ridge, y_train_ridge, y_val_ridge = train_test_split(df_full_train_ridge, y_full_train_ridge, test_size=0.25, random_state=42)"
   ]
  },
  {
   "cell_type": "code",
   "execution_count": 154,
   "id": "dc72de28",
   "metadata": {},
   "outputs": [],
   "source": [
    "df_train_ridge = df_train_ridge.reset_index(drop=True)\n",
    "df_val_ridge = df_val_ridge.reset_index(drop=True)\n",
    "df_test_ridge = df_test_ridge.reset_index(drop=True)"
   ]
  },
  {
   "cell_type": "code",
   "execution_count": 155,
   "id": "024fca5d",
   "metadata": {},
   "outputs": [],
   "source": [
    "df_train_numeric = df_train_ridge[numerical_col]\n",
    "df_val_numeric = df_val_ridge[numerical_col]\n",
    "df_test_numeric = df_test_ridge[numerical_col]"
   ]
  },
  {
   "cell_type": "code",
   "execution_count": 156,
   "id": "5593dae9",
   "metadata": {},
   "outputs": [],
   "source": [
    "df_train_categoric = df_train_ridge[categorical_col]\n",
    "df_val_categoric = df_val_ridge[categorical_col]\n",
    "df_test_categoric = df_test_ridge[categorical_col]"
   ]
  },
  {
   "cell_type": "code",
   "execution_count": 157,
   "id": "4bfa8331",
   "metadata": {},
   "outputs": [],
   "source": [
    "y_train_ridge = np.log1p(y_train_ridge)\n",
    "y_val_ridge = np.log1p(y_val_ridge)\n",
    "y_test_ridge = np.log1p(y_test_ridge)"
   ]
  },
  {
   "cell_type": "code",
   "execution_count": 158,
   "id": "29bb7ef8",
   "metadata": {},
   "outputs": [],
   "source": [
    "X_train_numeric = scaler.fit_transform(df_train_numeric)\n",
    "df_train_numeric = pd.DataFrame(X_train_numeric, columns=numerical_col)\n",
    "X_val_numeric = scaler.transform(df_val_numeric)\n",
    "df_val_numeric = pd.DataFrame(X_val_numeric, columns=numerical_col)\n",
    "X_test_numeric = scaler.transform(df_test_numeric)\n",
    "df_test_numeric = pd.DataFrame(X_test_numeric, columns=numerical_col)"
   ]
  },
  {
   "cell_type": "code",
   "execution_count": 162,
   "id": "40f922fb",
   "metadata": {},
   "outputs": [],
   "source": [
    "df_train_ridge = pd.concat([df_train_numeric, df_train_categoric], axis=1)\n",
    "df_val_ridge = pd.concat([df_val_numeric, df_val_categoric],axis=1)\n",
    "df_test_ridge = pd.concat([df_test_numeric, df_test_categoric], axis=1)"
   ]
  },
  {
   "cell_type": "code",
   "execution_count": 164,
   "id": "f466f19f",
   "metadata": {},
   "outputs": [
    {
     "data": {
      "text/html": [
       "<div>\n",
       "<style scoped>\n",
       "    .dataframe tbody tr th:only-of-type {\n",
       "        vertical-align: middle;\n",
       "    }\n",
       "\n",
       "    .dataframe tbody tr th {\n",
       "        vertical-align: top;\n",
       "    }\n",
       "\n",
       "    .dataframe thead th {\n",
       "        text-align: right;\n",
       "    }\n",
       "</style>\n",
       "<table border=\"1\" class=\"dataframe\">\n",
       "  <thead>\n",
       "    <tr style=\"text-align: right;\">\n",
       "      <th></th>\n",
       "      <th>year</th>\n",
       "      <th>engine_hp</th>\n",
       "      <th>engine_cylinders</th>\n",
       "      <th>highway_mpg</th>\n",
       "      <th>make</th>\n",
       "      <th>model</th>\n",
       "      <th>transmission_type</th>\n",
       "      <th>vehicle_style</th>\n",
       "    </tr>\n",
       "  </thead>\n",
       "  <tbody>\n",
       "    <tr>\n",
       "      <th>0</th>\n",
       "      <td>0.777778</td>\n",
       "      <td>0.179704</td>\n",
       "      <td>0.375</td>\n",
       "      <td>0.020468</td>\n",
       "      <td>Mitsubishi</td>\n",
       "      <td>Endeavor</td>\n",
       "      <td>AUTOMATIC</td>\n",
       "      <td>4dr SUV</td>\n",
       "    </tr>\n",
       "    <tr>\n",
       "      <th>1</th>\n",
       "      <td>0.703704</td>\n",
       "      <td>0.233615</td>\n",
       "      <td>0.375</td>\n",
       "      <td>0.026316</td>\n",
       "      <td>Kia</td>\n",
       "      <td>Borrego</td>\n",
       "      <td>AUTOMATIC</td>\n",
       "      <td>4dr SUV</td>\n",
       "    </tr>\n",
       "    <tr>\n",
       "      <th>2</th>\n",
       "      <td>0.814815</td>\n",
       "      <td>0.544397</td>\n",
       "      <td>0.625</td>\n",
       "      <td>0.023392</td>\n",
       "      <td>Lamborghini</td>\n",
       "      <td>Gallardo</td>\n",
       "      <td>MANUAL</td>\n",
       "      <td>Convertible</td>\n",
       "    </tr>\n",
       "    <tr>\n",
       "      <th>3</th>\n",
       "      <td>0.962963</td>\n",
       "      <td>0.153277</td>\n",
       "      <td>0.250</td>\n",
       "      <td>0.043860</td>\n",
       "      <td>Chevrolet</td>\n",
       "      <td>Colorado</td>\n",
       "      <td>AUTOMATIC</td>\n",
       "      <td>Crew Cab Pickup</td>\n",
       "    </tr>\n",
       "    <tr>\n",
       "      <th>4</th>\n",
       "      <td>0.703704</td>\n",
       "      <td>0.108879</td>\n",
       "      <td>0.250</td>\n",
       "      <td>0.040936</td>\n",
       "      <td>Pontiac</td>\n",
       "      <td>Vibe</td>\n",
       "      <td>AUTOMATIC</td>\n",
       "      <td>4dr Hatchback</td>\n",
       "    </tr>\n",
       "  </tbody>\n",
       "</table>\n",
       "</div>"
      ],
      "text/plain": [
       "       year  engine_hp  engine_cylinders  highway_mpg         make     model  \\\n",
       "0  0.777778   0.179704             0.375     0.020468   Mitsubishi  Endeavor   \n",
       "1  0.703704   0.233615             0.375     0.026316          Kia   Borrego   \n",
       "2  0.814815   0.544397             0.625     0.023392  Lamborghini  Gallardo   \n",
       "3  0.962963   0.153277             0.250     0.043860    Chevrolet  Colorado   \n",
       "4  0.703704   0.108879             0.250     0.040936      Pontiac      Vibe   \n",
       "\n",
       "  transmission_type    vehicle_style  \n",
       "0         AUTOMATIC          4dr SUV  \n",
       "1         AUTOMATIC          4dr SUV  \n",
       "2            MANUAL      Convertible  \n",
       "3         AUTOMATIC  Crew Cab Pickup  \n",
       "4         AUTOMATIC    4dr Hatchback  "
      ]
     },
     "execution_count": 164,
     "metadata": {},
     "output_type": "execute_result"
    }
   ],
   "source": [
    "df_train_ridge.head()"
   ]
  },
  {
   "cell_type": "code",
   "execution_count": 165,
   "id": "863bff63",
   "metadata": {},
   "outputs": [
    {
     "data": {
      "text/html": [
       "<div>\n",
       "<style scoped>\n",
       "    .dataframe tbody tr th:only-of-type {\n",
       "        vertical-align: middle;\n",
       "    }\n",
       "\n",
       "    .dataframe tbody tr th {\n",
       "        vertical-align: top;\n",
       "    }\n",
       "\n",
       "    .dataframe thead th {\n",
       "        text-align: right;\n",
       "    }\n",
       "</style>\n",
       "<table border=\"1\" class=\"dataframe\">\n",
       "  <thead>\n",
       "    <tr style=\"text-align: right;\">\n",
       "      <th></th>\n",
       "      <th>year</th>\n",
       "      <th>engine_hp</th>\n",
       "      <th>engine_cylinders</th>\n",
       "      <th>highway_mpg</th>\n",
       "      <th>make</th>\n",
       "      <th>model</th>\n",
       "      <th>transmission_type</th>\n",
       "      <th>vehicle_style</th>\n",
       "    </tr>\n",
       "  </thead>\n",
       "  <tbody>\n",
       "    <tr>\n",
       "      <th>0</th>\n",
       "      <td>0.925926</td>\n",
       "      <td>0.163848</td>\n",
       "      <td>0.250</td>\n",
       "      <td>0.055556</td>\n",
       "      <td>Volkswagen</td>\n",
       "      <td>Beetle</td>\n",
       "      <td>MANUAL</td>\n",
       "      <td>2dr Hatchback</td>\n",
       "    </tr>\n",
       "    <tr>\n",
       "      <th>1</th>\n",
       "      <td>0.925926</td>\n",
       "      <td>0.316068</td>\n",
       "      <td>0.375</td>\n",
       "      <td>0.035088</td>\n",
       "      <td>Audi</td>\n",
       "      <td>SQ5</td>\n",
       "      <td>AUTOMATIC</td>\n",
       "      <td>4dr SUV</td>\n",
       "    </tr>\n",
       "    <tr>\n",
       "      <th>2</th>\n",
       "      <td>0.555556</td>\n",
       "      <td>0.089852</td>\n",
       "      <td>0.250</td>\n",
       "      <td>0.055556</td>\n",
       "      <td>Pontiac</td>\n",
       "      <td>Grand Am</td>\n",
       "      <td>AUTOMATIC</td>\n",
       "      <td>Sedan</td>\n",
       "    </tr>\n",
       "    <tr>\n",
       "      <th>3</th>\n",
       "      <td>0.703704</td>\n",
       "      <td>0.265328</td>\n",
       "      <td>0.375</td>\n",
       "      <td>0.035088</td>\n",
       "      <td>Nissan</td>\n",
       "      <td>350Z</td>\n",
       "      <td>MANUAL</td>\n",
       "      <td>Convertible</td>\n",
       "    </tr>\n",
       "    <tr>\n",
       "      <th>4</th>\n",
       "      <td>0.222222</td>\n",
       "      <td>0.152220</td>\n",
       "      <td>0.375</td>\n",
       "      <td>0.008772</td>\n",
       "      <td>Ford</td>\n",
       "      <td>E-150</td>\n",
       "      <td>AUTOMATIC</td>\n",
       "      <td>Passenger Van</td>\n",
       "    </tr>\n",
       "  </tbody>\n",
       "</table>\n",
       "</div>"
      ],
      "text/plain": [
       "       year  engine_hp  engine_cylinders  highway_mpg        make     model  \\\n",
       "0  0.925926   0.163848             0.250     0.055556  Volkswagen    Beetle   \n",
       "1  0.925926   0.316068             0.375     0.035088        Audi       SQ5   \n",
       "2  0.555556   0.089852             0.250     0.055556     Pontiac  Grand Am   \n",
       "3  0.703704   0.265328             0.375     0.035088      Nissan      350Z   \n",
       "4  0.222222   0.152220             0.375     0.008772        Ford     E-150   \n",
       "\n",
       "  transmission_type  vehicle_style  \n",
       "0            MANUAL  2dr Hatchback  \n",
       "1         AUTOMATIC        4dr SUV  \n",
       "2         AUTOMATIC          Sedan  \n",
       "3            MANUAL    Convertible  \n",
       "4         AUTOMATIC  Passenger Van  "
      ]
     },
     "execution_count": 165,
     "metadata": {},
     "output_type": "execute_result"
    }
   ],
   "source": [
    "df_val_ridge.head()"
   ]
  },
  {
   "cell_type": "code",
   "execution_count": 166,
   "id": "cd50fead",
   "metadata": {},
   "outputs": [
    {
     "data": {
      "text/html": [
       "<div>\n",
       "<style scoped>\n",
       "    .dataframe tbody tr th:only-of-type {\n",
       "        vertical-align: middle;\n",
       "    }\n",
       "\n",
       "    .dataframe tbody tr th {\n",
       "        vertical-align: top;\n",
       "    }\n",
       "\n",
       "    .dataframe thead th {\n",
       "        text-align: right;\n",
       "    }\n",
       "</style>\n",
       "<table border=\"1\" class=\"dataframe\">\n",
       "  <thead>\n",
       "    <tr style=\"text-align: right;\">\n",
       "      <th></th>\n",
       "      <th>year</th>\n",
       "      <th>engine_hp</th>\n",
       "      <th>engine_cylinders</th>\n",
       "      <th>highway_mpg</th>\n",
       "      <th>make</th>\n",
       "      <th>model</th>\n",
       "      <th>transmission_type</th>\n",
       "      <th>vehicle_style</th>\n",
       "    </tr>\n",
       "  </thead>\n",
       "  <tbody>\n",
       "    <tr>\n",
       "      <th>0</th>\n",
       "      <td>0.555556</td>\n",
       "      <td>0.232558</td>\n",
       "      <td>0.375</td>\n",
       "      <td>0.017544</td>\n",
       "      <td>GMC</td>\n",
       "      <td>Envoy XL</td>\n",
       "      <td>AUTOMATIC</td>\n",
       "      <td>4dr SUV</td>\n",
       "    </tr>\n",
       "    <tr>\n",
       "      <th>1</th>\n",
       "      <td>0.962963</td>\n",
       "      <td>0.121564</td>\n",
       "      <td>0.250</td>\n",
       "      <td>0.076023</td>\n",
       "      <td>Volkswagen</td>\n",
       "      <td>Passat</td>\n",
       "      <td>AUTOMATIC</td>\n",
       "      <td>Sedan</td>\n",
       "    </tr>\n",
       "    <tr>\n",
       "      <th>2</th>\n",
       "      <td>0.962963</td>\n",
       "      <td>0.204017</td>\n",
       "      <td>0.375</td>\n",
       "      <td>0.046784</td>\n",
       "      <td>Honda</td>\n",
       "      <td>Odyssey</td>\n",
       "      <td>AUTOMATIC</td>\n",
       "      <td>Passenger Minivan</td>\n",
       "    </tr>\n",
       "    <tr>\n",
       "      <th>3</th>\n",
       "      <td>0.925926</td>\n",
       "      <td>0.087738</td>\n",
       "      <td>0.250</td>\n",
       "      <td>0.070175</td>\n",
       "      <td>Chevrolet</td>\n",
       "      <td>Cruze</td>\n",
       "      <td>MANUAL</td>\n",
       "      <td>Sedan</td>\n",
       "    </tr>\n",
       "    <tr>\n",
       "      <th>4</th>\n",
       "      <td>0.037037</td>\n",
       "      <td>0.113108</td>\n",
       "      <td>0.250</td>\n",
       "      <td>0.023392</td>\n",
       "      <td>Volvo</td>\n",
       "      <td>740</td>\n",
       "      <td>AUTOMATIC</td>\n",
       "      <td>Sedan</td>\n",
       "    </tr>\n",
       "  </tbody>\n",
       "</table>\n",
       "</div>"
      ],
      "text/plain": [
       "       year  engine_hp  engine_cylinders  highway_mpg        make     model  \\\n",
       "0  0.555556   0.232558             0.375     0.017544         GMC  Envoy XL   \n",
       "1  0.962963   0.121564             0.250     0.076023  Volkswagen    Passat   \n",
       "2  0.962963   0.204017             0.375     0.046784       Honda   Odyssey   \n",
       "3  0.925926   0.087738             0.250     0.070175   Chevrolet     Cruze   \n",
       "4  0.037037   0.113108             0.250     0.023392       Volvo       740   \n",
       "\n",
       "  transmission_type      vehicle_style  \n",
       "0         AUTOMATIC            4dr SUV  \n",
       "1         AUTOMATIC              Sedan  \n",
       "2         AUTOMATIC  Passenger Minivan  \n",
       "3            MANUAL              Sedan  \n",
       "4         AUTOMATIC              Sedan  "
      ]
     },
     "execution_count": 166,
     "metadata": {},
     "output_type": "execute_result"
    }
   ],
   "source": [
    "df_test_ridge.head()"
   ]
  },
  {
   "cell_type": "code",
   "execution_count": 167,
   "id": "c563a856",
   "metadata": {},
   "outputs": [],
   "source": [
    "dv = DictVectorizer(sparse=True)\n",
    "\n",
    "train_dict = df_train_ridge.to_dict(orient='records')\n",
    "X_train_ridge = dv.fit_transform(train_dict)\n",
    "\n",
    "val_dict = df_val_ridge.to_dict(orient='records')\n",
    "X_val_ridge = dv.transform(val_dict)\n",
    "\n",
    "test_dict = df_test_ridge.to_dict(orient='records')\n",
    "X_test_ridge = dv.transform(val_dict)"
   ]
  },
  {
   "cell_type": "code",
   "execution_count": 169,
   "id": "7ed172ae",
   "metadata": {},
   "outputs": [
    {
     "name": "stdout",
     "output_type": "stream",
     "text": [
      "alpha: 0, error: 0.054\n",
      "\n",
      "alpha: 0.01, error: 0.05\n",
      "\n",
      "alpha: 0.1, error: 0.046\n",
      "\n",
      "alpha: 1, error: 0.053\n",
      "\n",
      "alpha: 10, error: 0.104\n",
      "\n",
      "###################################\n",
      "Alpha with least error is: 0.1\n"
     ]
    }
   ],
   "source": [
    "errors = []\n",
    "for alpha in alphas:\n",
    "    lr = Ridge(solver='sag',\n",
    "                random_state=42, alpha=alpha)\n",
    "    lr.fit(X_train_ridge, y_train_ridge)\n",
    "    y_pred = lr.predict(X_val_ridge)\n",
    "    error = mean_squared_error(y_val_ridge, y_pred)\n",
    "    errors.append(round(error, 3))\n",
    "    print(f\"alpha: {alpha}, error: {round(error, 3)}\\n\")\n",
    "\n",
    "print(\"#\"*35)\n",
    "print(f\"Alpha with least error is: {alphas[np.argmin(errors)]}\")\n",
    "    "
   ]
  }
 ],
 "metadata": {
  "kernelspec": {
   "display_name": "ml-zoomcamp",
   "language": "python",
   "name": "python3"
  },
  "language_info": {
   "codemirror_mode": {
    "name": "ipython",
    "version": 3
   },
   "file_extension": ".py",
   "mimetype": "text/x-python",
   "name": "python",
   "nbconvert_exporter": "python",
   "pygments_lexer": "ipython3",
   "version": "3.9.18"
  }
 },
 "nbformat": 4,
 "nbformat_minor": 5
}
